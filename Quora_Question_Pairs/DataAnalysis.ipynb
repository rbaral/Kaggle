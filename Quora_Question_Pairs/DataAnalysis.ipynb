{
 "cells": [
  {
   "cell_type": "markdown",
   "metadata": {},
   "source": [
    "<h2>This notebook is for the data analysis of the quora questions posted in Kaggle. The main objective is to identify duplicate questions in the given dataset. The <a href=\"https://www.kaggle.com/c/quora-question-pairs\">Kaggle page</a> provides the detailed description of the problem. "
   ]
  },
  {
   "cell_type": "code",
   "execution_count": 1,
   "metadata": {
    "collapsed": true
   },
   "outputs": [],
   "source": [
    "#import the required libraries\n",
    "import numpy as np # linear algebra\n",
    "import pandas as pd # data processing, CSV file I/O (e.g. pd.read_csv)\n",
    "import os\n",
    "import gc\n",
    "import matplotlib.pyplot as plt\n",
    "import seaborn as sns\n",
    "%matplotlib inline\n",
    "\n",
    "pal = sns.color_palette()"
   ]
  },
  {
   "cell_type": "code",
   "execution_count": 2,
   "metadata": {
    "collapsed": false
   },
   "outputs": [
    {
     "name": "stdout",
     "output_type": "stream",
     "text": [
      "sample_submission.csv         22.35MB\n",
      "test.csv                      314.02MB\n",
      "train.csv                     63.4MB\n"
     ]
    },
    {
     "data": {
      "text/html": [
       "<div>\n",
       "<table border=\"1\" class=\"dataframe\">\n",
       "  <thead>\n",
       "    <tr style=\"text-align: right;\">\n",
       "      <th></th>\n",
       "      <th>id</th>\n",
       "      <th>qid1</th>\n",
       "      <th>qid2</th>\n",
       "      <th>question1</th>\n",
       "      <th>question2</th>\n",
       "      <th>is_duplicate</th>\n",
       "    </tr>\n",
       "  </thead>\n",
       "  <tbody>\n",
       "    <tr>\n",
       "      <th>0</th>\n",
       "      <td>0</td>\n",
       "      <td>1</td>\n",
       "      <td>2</td>\n",
       "      <td>What is the step by step guide to invest in sh...</td>\n",
       "      <td>What is the step by step guide to invest in sh...</td>\n",
       "      <td>0</td>\n",
       "    </tr>\n",
       "    <tr>\n",
       "      <th>1</th>\n",
       "      <td>1</td>\n",
       "      <td>3</td>\n",
       "      <td>4</td>\n",
       "      <td>What is the story of Kohinoor (Koh-i-Noor) Dia...</td>\n",
       "      <td>What would happen if the Indian government sto...</td>\n",
       "      <td>0</td>\n",
       "    </tr>\n",
       "    <tr>\n",
       "      <th>2</th>\n",
       "      <td>2</td>\n",
       "      <td>5</td>\n",
       "      <td>6</td>\n",
       "      <td>How can I increase the speed of my internet co...</td>\n",
       "      <td>How can Internet speed be increased by hacking...</td>\n",
       "      <td>0</td>\n",
       "    </tr>\n",
       "    <tr>\n",
       "      <th>3</th>\n",
       "      <td>3</td>\n",
       "      <td>7</td>\n",
       "      <td>8</td>\n",
       "      <td>Why am I mentally very lonely? How can I solve...</td>\n",
       "      <td>Find the remainder when [math]23^{24}[/math] i...</td>\n",
       "      <td>0</td>\n",
       "    </tr>\n",
       "    <tr>\n",
       "      <th>4</th>\n",
       "      <td>4</td>\n",
       "      <td>9</td>\n",
       "      <td>10</td>\n",
       "      <td>Which one dissolve in water quikly sugar, salt...</td>\n",
       "      <td>Which fish would survive in salt water?</td>\n",
       "      <td>0</td>\n",
       "    </tr>\n",
       "  </tbody>\n",
       "</table>\n",
       "</div>"
      ],
      "text/plain": [
       "   id  qid1  qid2                                          question1  \\\n",
       "0   0     1     2  What is the step by step guide to invest in sh...   \n",
       "1   1     3     4  What is the story of Kohinoor (Koh-i-Noor) Dia...   \n",
       "2   2     5     6  How can I increase the speed of my internet co...   \n",
       "3   3     7     8  Why am I mentally very lonely? How can I solve...   \n",
       "4   4     9    10  Which one dissolve in water quikly sugar, salt...   \n",
       "\n",
       "                                           question2  is_duplicate  \n",
       "0  What is the step by step guide to invest in sh...             0  \n",
       "1  What would happen if the Indian government sto...             0  \n",
       "2  How can Internet speed be increased by hacking...             0  \n",
       "3  Find the remainder when [math]23^{24}[/math] i...             0  \n",
       "4            Which fish would survive in salt water?             0  "
      ]
     },
     "execution_count": 2,
     "metadata": {},
     "output_type": "execute_result"
    }
   ],
   "source": [
    "#define the data dir\n",
    "dataDir = \"H:\\scis\\Data_Mining\\data\\Kaggle\\quora\"\n",
    "#let us print the file details\n",
    "for f in os.listdir(dataDir):\n",
    "    if 'zip' not in f:\n",
    "        print(f.ljust(30) + str(round(os.path.getsize(os.path.join(dataDir, f)) / 1000000, 2)) + 'MB')\n",
    "#read the train data\n",
    "trainFile = os.path.join(dataDir, \"train.csv\")\n",
    "df_train = pd.read_csv(trainFile)\n",
    "#print the first few rows\n",
    "df_train.head()"
   ]
  },
  {
   "cell_type": "markdown",
   "metadata": {
    "collapsed": true
   },
   "source": [
    "the fields are self-explanatory (id is the simple row id, qid1 and qid2 are the ids of the questions, question1 and question2 contain the text of the question, and is_duplicate is the flag to indicate if the pairs are duplicate."
   ]
  },
  {
   "cell_type": "code",
   "execution_count": 3,
   "metadata": {
    "collapsed": false
   },
   "outputs": [
    {
     "name": "stdout",
     "output_type": "stream",
     "text": [
      "total question pairs 404290\n",
      "total duplicate entries 149263\n",
      "total questions 537933\n",
      "questions with multiple entries 111780\n",
      "questions with single entry 426153\n"
     ]
    },
    {
     "data": {
      "image/png": "[encoded data removed]",
      "text/plain": [
       "<matplotlib.figure.Figure at 0x138dfe10>"
      ]
     },
     "metadata": {},
     "output_type": "display_data"
    }
   ],
   "source": [
    "#now lets find some statistics of the dataset\n",
    "\n",
    "#lets find the question pairs given\n",
    "print(\"total question pairs\",df_train.shape[0])\n",
    "\n",
    "#lets find the number of duplicates\n",
    "print(\"total duplicate entries\", df_train[df_train['is_duplicate']==1].shape[0])\n",
    "\n",
    "#find total number of questions\n",
    "total_questions = set(df_train['qid1'].unique().tolist() + df_train['qid2'].unique().tolist())\n",
    "print(\"total questions\",len(total_questions))\n",
    "\n",
    "#find total number of questions that were posted just once\n",
    "all_ids = pd.Series(df_train['qid1'].tolist() + df_train['qid2'].tolist())\n",
    "\n",
    "#let us see the distribution of occurences of questions\n",
    "#all_ids.value_counts()\n",
    "\n",
    "#let us see the histogram of the question count distribution\n",
    "plt.figure(figsize=(12, 5))\n",
    "plt.title('Log-Histogram of question appearance counts')\n",
    "plt.xlabel('Number of occurences of question')\n",
    "plt.ylabel('Number of questions')\n",
    "plt.yscale('log', nonposy='clip')\n",
    "all_ids.value_counts().hist(bins = 50)\n",
    "\n",
    "#let us find the questions that were posted multiple times\n",
    "dup_questions = np.sum(all_ids.value_counts()>1)\n",
    "print (\"questions with multiple entries\",dup_questions)\n",
    "\n",
    "#let us find questions posted just once\n",
    "unique_questions = np.sum(all_ids.value_counts()<2)\n",
    "print(\"questions with single entry\",unique_questions)"
   ]
  },
  {
   "cell_type": "markdown",
   "metadata": {
    "collapsed": true
   },
   "source": [
    "It looks like most of the questions appear only few times. Few of them occur most frequently.\n",
    "We can see that we have a 37% positive class in this dataset. Since we are using the LogLoss metric, and LogLoss looks at the actual predicts as opposed to the order of predictions, we should be able to get a decent score by creating a submission predicting the mean value of the label."
   ]
  },
  {
   "cell_type": "code",
   "execution_count": 4,
   "metadata": {
    "collapsed": false
   },
   "outputs": [
    {
     "name": "stdout",
     "output_type": "stream",
     "text": [
      "Predicted score is: 0.658527383984\n"
     ]
    }
   ],
   "source": [
    "#let us use the mean to get a sample submission\n",
    "from sklearn.metrics import log_loss\n",
    "#let us find the probability of being a duplicate by just taking the mean of the frequency of duplicates\n",
    "dup_prob = df_train['is_duplicate'].mean()\n",
    "#log_loss(actual, predicted) gives the log loss of the prediction against the actual\n",
    "print(\"Predicted score is:\", log_loss(df_train['is_duplicate'], np.zeros_like(df_train['is_duplicate']) + dup_prob))\n"
   ]
  },
  {
   "cell_type": "code",
   "execution_count": 32,
   "metadata": {
    "collapsed": false
   },
   "outputs": [
    {
     "data": {
      "text/html": [
       "<div>\n",
       "<table border=\"1\" class=\"dataframe\">\n",
       "  <thead>\n",
       "    <tr style=\"text-align: right;\">\n",
       "      <th></th>\n",
       "      <th>is_duplicate</th>\n",
       "      <th>test_id</th>\n",
       "    </tr>\n",
       "  </thead>\n",
       "  <tbody>\n",
       "    <tr>\n",
       "      <th>0</th>\n",
       "      <td>0.369198</td>\n",
       "      <td>0</td>\n",
       "    </tr>\n",
       "    <tr>\n",
       "      <th>1</th>\n",
       "      <td>0.369198</td>\n",
       "      <td>1</td>\n",
       "    </tr>\n",
       "    <tr>\n",
       "      <th>2</th>\n",
       "      <td>0.369198</td>\n",
       "      <td>2</td>\n",
       "    </tr>\n",
       "    <tr>\n",
       "      <th>3</th>\n",
       "      <td>0.369198</td>\n",
       "      <td>3</td>\n",
       "    </tr>\n",
       "    <tr>\n",
       "      <th>4</th>\n",
       "      <td>0.369198</td>\n",
       "      <td>4</td>\n",
       "    </tr>\n",
       "  </tbody>\n",
       "</table>\n",
       "</div>"
      ],
      "text/plain": [
       "   is_duplicate  test_id\n",
       "0      0.369198        0\n",
       "1      0.369198        1\n",
       "2      0.369198        2\n",
       "3      0.369198        3\n",
       "4      0.369198        4"
      ]
     },
     "execution_count": 32,
     "metadata": {},
     "output_type": "execute_result"
    }
   ],
   "source": [
    "#the prediction score >0.5 is not that bad\n",
    "#let us dump the prediction to a file\n",
    "test_file = os.path.join(dataDir, \"test.csv\")\n",
    "df_test = pd.read_csv(test_file)\n",
    "sub_df = pd.DataFrame({'test_id':df_test['test_id'], 'is_duplicate':dup_prob})\n",
    "sub_df.to_csv(\"simple_submission.csv\", index=False)\n",
    "sub_df.head()"
   ]
  },
  {
   "cell_type": "code",
   "execution_count": 6,
   "metadata": {
    "collapsed": false
   },
   "outputs": [
    {
     "data": {
      "text/plain": [
       "(2345796, 3)"
      ]
     },
     "execution_count": 6,
     "metadata": {},
     "output_type": "execute_result"
    }
   ],
   "source": [
    "# let us do some data analysis on the test data\n",
    "df_test.shape"
   ]
  },
  {
   "cell_type": "code",
   "execution_count": 7,
   "metadata": {
    "collapsed": false
   },
   "outputs": [
    {
     "data": {
      "text/plain": [
       "array(['test_id', 'question1', 'question2'], dtype=object)"
      ]
     },
     "execution_count": 7,
     "metadata": {},
     "output_type": "execute_result"
    }
   ],
   "source": [
    "# let us see what columns we have\n",
    "df_test.columns.values"
   ]
  },
  {
   "cell_type": "code",
   "execution_count": 8,
   "metadata": {
    "collapsed": false
   },
   "outputs": [
    {
     "data": {
      "text/html": [
       "<div>\n",
       "<table border=\"1\" class=\"dataframe\">\n",
       "  <thead>\n",
       "    <tr style=\"text-align: right;\">\n",
       "      <th></th>\n",
       "      <th>test_id</th>\n",
       "      <th>question1</th>\n",
       "      <th>question2</th>\n",
       "    </tr>\n",
       "  </thead>\n",
       "  <tbody>\n",
       "    <tr>\n",
       "      <th>0</th>\n",
       "      <td>0</td>\n",
       "      <td>How does the Surface Pro himself 4 compare wit...</td>\n",
       "      <td>Why did Microsoft choose core m3 and not core ...</td>\n",
       "    </tr>\n",
       "    <tr>\n",
       "      <th>1</th>\n",
       "      <td>1</td>\n",
       "      <td>Should I have a hair transplant at age 24? How...</td>\n",
       "      <td>How much cost does hair transplant require?</td>\n",
       "    </tr>\n",
       "    <tr>\n",
       "      <th>2</th>\n",
       "      <td>2</td>\n",
       "      <td>What but is the best way to send money from Ch...</td>\n",
       "      <td>What you send money to China?</td>\n",
       "    </tr>\n",
       "    <tr>\n",
       "      <th>3</th>\n",
       "      <td>3</td>\n",
       "      <td>Which food not emulsifiers?</td>\n",
       "      <td>What foods fibre?</td>\n",
       "    </tr>\n",
       "    <tr>\n",
       "      <th>4</th>\n",
       "      <td>4</td>\n",
       "      <td>How \"aberystwyth\" start reading?</td>\n",
       "      <td>How their can I start reading?</td>\n",
       "    </tr>\n",
       "  </tbody>\n",
       "</table>\n",
       "</div>"
      ],
      "text/plain": [
       "   test_id                                          question1  \\\n",
       "0        0  How does the Surface Pro himself 4 compare wit...   \n",
       "1        1  Should I have a hair transplant at age 24? How...   \n",
       "2        2  What but is the best way to send money from Ch...   \n",
       "3        3                        Which food not emulsifiers?   \n",
       "4        4                   How \"aberystwyth\" start reading?   \n",
       "\n",
       "                                           question2  \n",
       "0  Why did Microsoft choose core m3 and not core ...  \n",
       "1        How much cost does hair transplant require?  \n",
       "2                      What you send money to China?  \n",
       "3                                  What foods fibre?  \n",
       "4                     How their can I start reading?  "
      ]
     },
     "execution_count": 8,
     "metadata": {},
     "output_type": "execute_result"
    }
   ],
   "source": [
    "#let us see some records\n",
    "df_test.head()"
   ]
  },
  {
   "cell_type": "markdown",
   "metadata": {},
   "source": [
    "In the test data, we do not have the question ids. From the language structure and the content of some of the questions above, we can guess that some of the questions were auto generated."
   ]
  },
  {
   "cell_type": "code",
   "execution_count": 9,
   "metadata": {
    "collapsed": false
   },
   "outputs": [
    {
     "data": {
      "text/plain": [
       "0    What is the step by step guide to invest in sh...\n",
       "1    What is the story of Kohinoor (Koh-i-Noor) Dia...\n",
       "2    How can I increase the speed of my internet co...\n",
       "3    Why am I mentally very lonely? How can I solve...\n",
       "4    Which one dissolve in water quikly sugar, salt...\n",
       "5    Astrology: I am a Capricorn Sun Cap moon and c...\n",
       "6                                  Should I buy tiago?\n",
       "7                       How can I be a good geologist?\n",
       "8                      When do you use シ instead of し?\n",
       "9    Motorola (company): Can I hack my Charter Moto...\n",
       "dtype: object"
      ]
     },
     "execution_count": 9,
     "metadata": {},
     "output_type": "execute_result"
    }
   ],
   "source": [
    "#let us do some text analysis now\n",
    "ques_train = pd.Series(list(df_train['question1']) + list(df_train['question2'])).astype(str)\n",
    "ques_train[:10]"
   ]
  },
  {
   "cell_type": "code",
   "execution_count": 10,
   "metadata": {
    "collapsed": false
   },
   "outputs": [
    {
     "data": {
      "text/plain": [
       "0    How does the Surface Pro himself 4 compare wit...\n",
       "1    Should I have a hair transplant at age 24? How...\n",
       "2    What but is the best way to send money from Ch...\n",
       "3                          Which food not emulsifiers?\n",
       "4                     How \"aberystwyth\" start reading?\n",
       "5    How are the two wheeler insurance from Bharti ...\n",
       "6        How can I reduce my belly fat through a diet?\n",
       "7    By scrapping the 500 and 1000 rupee notes, how...\n",
       "8             What are the how best books of all time?\n",
       "9    After 12th years old boy and I had sex with a ...\n",
       "dtype: object"
      ]
     },
     "execution_count": 10,
     "metadata": {},
     "output_type": "execute_result"
    }
   ],
   "source": [
    "#let us see the test data\n",
    "ques_test = pd.Series(list(df_test['question1']) + list(df_test['question2'])).astype(str)\n",
    "ques_test[:10]"
   ]
  },
  {
   "cell_type": "code",
   "execution_count": 11,
   "metadata": {
    "collapsed": false
   },
   "outputs": [
    {
     "data": {
      "text/plain": [
       "0          66\n",
       "1          51\n",
       "2          73\n",
       "3          50\n",
       "4          76\n",
       "5          86\n",
       "6          19\n",
       "7          30\n",
       "8          31\n",
       "9          60\n",
       "10         57\n",
       "11         43\n",
       "12         36\n",
       "13         43\n",
       "14        141\n",
       "15         93\n",
       "16         28\n",
       "17         57\n",
       "18         82\n",
       "19         60\n",
       "20         26\n",
       "21         37\n",
       "22         47\n",
       "23         24\n",
       "24         79\n",
       "25         79\n",
       "26         24\n",
       "27         49\n",
       "28         38\n",
       "29         38\n",
       "         ... \n",
       "808550     40\n",
       "808551     64\n",
       "808552     32\n",
       "808553     65\n",
       "808554     42\n",
       "808555     33\n",
       "808556    179\n",
       "808557     80\n",
       "808558     44\n",
       "808559     63\n",
       "808560     45\n",
       "808561     65\n",
       "808562     87\n",
       "808563     83\n",
       "808564     51\n",
       "808565     79\n",
       "808566     24\n",
       "808567     32\n",
       "808568     52\n",
       "808569     77\n",
       "808570     55\n",
       "808571     68\n",
       "808572     47\n",
       "808573     61\n",
       "808574     51\n",
       "808575     79\n",
       "808576     42\n",
       "808577     17\n",
       "808578    127\n",
       "808579     45\n",
       "dtype: int64"
      ]
     },
     "execution_count": 11,
     "metadata": {},
     "output_type": "execute_result"
    }
   ],
   "source": [
    "#let us see the length of questions in train data\n",
    "ques_train_len = ques_train.apply(len)\n",
    "ques_train_len"
   ]
  },
  {
   "cell_type": "code",
   "execution_count": 12,
   "metadata": {
    "collapsed": false
   },
   "outputs": [
    {
     "data": {
      "text/plain": [
       "0           57\n",
       "1           66\n",
       "2           60\n",
       "3           27\n",
       "4           32\n",
       "5           60\n",
       "6           45\n",
       "7           98\n",
       "8           40\n",
       "9          107\n",
       "10          43\n",
       "11          64\n",
       "12          72\n",
       "13          35\n",
       "14          46\n",
       "15          30\n",
       "16          31\n",
       "17          86\n",
       "18          73\n",
       "19          41\n",
       "20          71\n",
       "21          52\n",
       "22          53\n",
       "23          43\n",
       "24          43\n",
       "25          57\n",
       "26         119\n",
       "27          49\n",
       "28          68\n",
       "29          70\n",
       "          ... \n",
       "4691562    153\n",
       "4691563     44\n",
       "4691564     68\n",
       "4691565     71\n",
       "4691566     34\n",
       "4691567     76\n",
       "4691568     55\n",
       "4691569     38\n",
       "4691570     34\n",
       "4691571     50\n",
       "4691572     41\n",
       "4691573     46\n",
       "4691574     58\n",
       "4691575     58\n",
       "4691576     99\n",
       "4691577     50\n",
       "4691578     57\n",
       "4691579    145\n",
       "4691580     24\n",
       "4691581     39\n",
       "4691582     34\n",
       "4691583     85\n",
       "4691584    106\n",
       "4691585    120\n",
       "4691586     50\n",
       "4691587     43\n",
       "4691588     38\n",
       "4691589     49\n",
       "4691590    128\n",
       "4691591     45\n",
       "dtype: int64"
      ]
     },
     "execution_count": 12,
     "metadata": {},
     "output_type": "execute_result"
    }
   ],
   "source": [
    "ques_test_len = ques_test.apply(len)\n",
    "ques_test_len"
   ]
  },
  {
   "cell_type": "code",
   "execution_count": 13,
   "metadata": {
    "collapsed": false
   },
   "outputs": [
    {
     "data": {
      "text/plain": [
       "<matplotlib.text.Text at 0xa23b860>"
      ]
     },
     "execution_count": 13,
     "metadata": {},
     "output_type": "execute_result"
    },
    {
     "data": {
      "image/png": "[encoded data removed]",
      "text/plain": [
       "<matplotlib.figure.Figure at 0xcccbcf8>"
      ]
     },
     "metadata": {},
     "output_type": "display_data"
    }
   ],
   "source": [
    "plt.figure(figsize=(15, 10))\n",
    "ques_train_len.hist(bins=200, range=[0, 200], normed=True, color=pal[2], label='Train')\n",
    "ques_test_len.hist(bins=200, range=[0, 200], normed=True, color=pal[1], alpha=0.5, label='Test')\n",
    "plt.title('Normalised histogram of character count in questions', fontsize=15)\n",
    "plt.legend()\n",
    "plt.xlabel('Number of characters', fontsize=15)\n",
    "plt.ylabel('Probability', fontsize=15)"
   ]
  },
  {
   "cell_type": "code",
   "execution_count": 14,
   "metadata": {
    "collapsed": false
   },
   "outputs": [
    {
     "name": "stdout",
     "output_type": "stream",
     "text": [
      "mean-train 59.82 std-train 31.96 mean-test 60.07 std-test 31.62 max-train 1169.00 min-train 1.00 max-test 1176.00 min-test 1.00\n"
     ]
    }
   ],
   "source": [
    "#some statistics of the train and test questions length\n",
    "print('mean-train {:.2f} std-train {:.2f} mean-test {:.2f} std-test {:.2f} max-train {:.2f} min-train {:.2f} max-test {:.2f} min-test {:.2f}'.format(ques_train_len.mean(), \n",
    "                          ques_train_len.std(), ques_test_len.mean(), ques_test_len.std(), ques_train_len.max(), ques_train_len.min(), ques_test_len.max(), ques_test_len.min()))"
   ]
  },
  {
   "cell_type": "markdown",
   "metadata": {},
   "source": [
    "Most of the questions have length between 15 to 150 characters as shown in the above plot. It's also worth noting that we have truncated this histogram at 200 characters, and that the max of the distribution is at just under 1200 characters for both sets - although samples with over 200 characters are very rare."
   ]
  },
  {
   "cell_type": "markdown",
   "metadata": {},
   "source": [
    "Let's do the same for word count. We will be using a naive method for splitting words (splitting on spaces instead of using a serious tokenizer), although this should still give us a good idea of the distribution."
   ]
  },
  {
   "cell_type": "code",
   "execution_count": 15,
   "metadata": {
    "collapsed": false
   },
   "outputs": [
    {
     "data": {
      "text/plain": [
       "<matplotlib.text.Text at 0xe399f60>"
      ]
     },
     "execution_count": 15,
     "metadata": {},
     "output_type": "execute_result"
    },
    {
     "data": {
      "image/png": "[encoded data removed]",
      "text/plain": [
       "<matplotlib.figure.Figure at 0xdefefd0>"
      ]
     },
     "metadata": {},
     "output_type": "display_data"
    }
   ],
   "source": [
    "#let us split the text based on space to get the word count\n",
    "train_words = ques_train.apply(lambda x:len(x.split(' ')))\n",
    "test_words = ques_test.apply(lambda x:len(x.split(' ')))\n",
    "#let us see the histogram of the word distribution\n",
    "plt.figure(figsize=(15, 10))\n",
    "train_words.hist(bins=50, range=[0,50], color=pal[2], normed=True, label='Train')\n",
    "test_words.hist(bins=50, range=[0,50], color=pal[1], alpha=0.5, normed=True, label='Test')\n",
    "plt.title('Normalised histogram of word count in questions', fontsize=15)\n",
    "plt.legend()\n",
    "plt.xlabel('Number of words', fontsize=15)\n",
    "plt.ylabel('Probability', fontsize=15)"
   ]
  },
  {
   "cell_type": "code",
   "execution_count": 16,
   "metadata": {
    "collapsed": false
   },
   "outputs": [
    {
     "name": "stdout",
     "output_type": "stream",
     "text": [
      "mean-train 11.06 std-train 5.89 mean-test 11.02 std-test 5.84 max-train 237.00 min-train 1.00 max-test 238.00 min-test 1.00\n"
     ]
    }
   ],
   "source": [
    "#let us see some statistics of the word distribution\n",
    "print('mean-train {:.2f} std-train {:.2f} mean-test {:.2f} std-test {:.2f} max-train {:.2f} min-train {:.2f} max-test {:.2f} min-test {:.2f}'\n",
    "      .format(train_words.mean(), \n",
    "                          train_words.std(), test_words.mean(), \n",
    "              test_words.std(), \n",
    "              train_words.max(), train_words.min(), test_words.max(), test_words.min()))"
   ]
  },
  {
   "cell_type": "markdown",
   "metadata": {},
   "source": [
    "We can see that most of the questions have around 10 words."
   ]
  },
  {
   "cell_type": "code",
   "execution_count": 17,
   "metadata": {
    "collapsed": false
   },
   "outputs": [
    {
     "data": {
      "text/plain": [
       "'\\nfrom wordcloud import WordCloud\\ncloud = WordCloud(width = 1440, height = 1080).generate(\"\".join(ques_train.astype(str)))\\nplt.figure(figsize=(20, 15))\\nplt.imshow(cloud)\\nplt.axis(\\'off\\')\\n'"
      ]
     },
     "execution_count": 17,
     "metadata": {},
     "output_type": "execute_result"
    }
   ],
   "source": [
    "#let us populate the word cloud\n",
    "#uncomment the following block to see the word cloud\n",
    "'''\n",
    "from wordcloud import WordCloud\n",
    "cloud = WordCloud(width = 1440, height = 1080).generate(\"\".join(ques_train.astype(str)))\n",
    "plt.figure(figsize=(20, 15))\n",
    "plt.imshow(cloud)\n",
    "plt.axis('off')\n",
    "'''"
   ]
  },
  {
   "cell_type": "markdown",
   "metadata": {
    "collapsed": true
   },
   "source": [
    "<h5>Semantic analysis"
   ]
  },
  {
   "cell_type": "code",
   "execution_count": 18,
   "metadata": {
    "collapsed": true
   },
   "outputs": [],
   "source": [
    "#find the number of questions that have a question mark\n",
    "qmarks = np.mean(ques_train.apply(lambda x: '?' in x))\n",
    "#find the number of questions that have 'math' keyword\n",
    "math = np.mean(ques_train.apply(lambda x: '[math]' in x))\n",
    "#that have fullstop\n",
    "fullstop = np.mean(ques_train.apply(lambda x: '.' in x))\n",
    "#that have first letter as capital\n",
    "capital_first = np.mean(ques_train.apply(lambda x: x[0].isupper()))\n",
    "#number of capital letters\n",
    "capitals = np.mean(ques_train.apply(lambda x: max([y.isupper() for y in x])))\n",
    "#number of digits\n",
    "numbers = np.mean(ques_train.apply(lambda x: max([y.isdigit() for y in x])))"
   ]
  },
  {
   "cell_type": "code",
   "execution_count": 19,
   "metadata": {
    "collapsed": false
   },
   "outputs": [
    {
     "name": "stdout",
     "output_type": "stream",
     "text": [
      "Questions with question marks: 99.87%\n",
      "Questions with [math] tags: 0.12%\n",
      "Questions with full stops: 6.31%\n",
      "Questions with capitalised first letters: 99.81%\n",
      "Questions with capital letters: 99.95%\n",
      "Questions with numbers: 11.83%\n"
     ]
    }
   ],
   "source": [
    "print('Questions with question marks: {:.2f}%'.format(qmarks * 100))\n",
    "print('Questions with [math] tags: {:.2f}%'.format(math * 100))\n",
    "print('Questions with full stops: {:.2f}%'.format(fullstop * 100))\n",
    "print('Questions with capitalised first letters: {:.2f}%'.format(capital_first * 100))\n",
    "print('Questions with capital letters: {:.2f}%'.format(capitals * 100))\n",
    "print('Questions with numbers: {:.2f}%'.format(numbers * 100))"
   ]
  },
  {
   "cell_type": "markdown",
   "metadata": {},
   "source": [
    "<h5> Feature Analysis"
   ]
  },
  {
   "cell_type": "code",
   "execution_count": 20,
   "metadata": {
    "collapsed": false
   },
   "outputs": [
    {
     "data": {
      "text/plain": [
       "<matplotlib.text.Text at 0x1cf6a2e8>"
      ]
     },
     "execution_count": 20,
     "metadata": {},
     "output_type": "execute_result"
    },
    {
     "data": {
      "image/png": "[encoded data removed]",
      "text/plain": [
       "<matplotlib.figure.Figure at 0x1762c5c0>"
      ]
     },
     "metadata": {},
     "output_type": "display_data"
    }
   ],
   "source": [
    "#let us explore the features from the text\n",
    "from nltk.corpus import stopwords\n",
    "stops = set(stopwords.words(\"english\"))\n",
    "'''\n",
    "\n",
    "'''\n",
    "def word_match_share(row):\n",
    "    q1words = {}\n",
    "    q2words = {}\n",
    "    for word in str(row['question1']).lower().split():\n",
    "        if word not in stops:\n",
    "            q1words[word] = 1\n",
    "    for word in str(row['question2']).lower().split():\n",
    "        if word not in stops:\n",
    "            q2words[word] = 1\n",
    "    if len(q1words) == 0 or len(q2words) == 0:\n",
    "        # The computer-generated chaff includes a few questions that are nothing but stopwords\n",
    "        return 0\n",
    "    shared_words_in_q1 = [w for w in q1words.keys() if w in q2words]\n",
    "    shared_words_in_q2 = [w for w in q2words.keys() if w in q1words]\n",
    "    R = (len(shared_words_in_q1) + len(shared_words_in_q2))/(len(q1words) + len(q2words))\n",
    "    #find the intersection of words\n",
    "    if len(q1words.keys())>0 and len(q2words.keys())>0:\n",
    "        #print(len(q1words.keys()), len(q2words.keys()))\n",
    "        common_words = np.intersect1d(np.array(list(q1words.keys())), np.array(list(q2words.keys())))\n",
    "        ratio_shared = len(common_words)/float(len(q1words)+len(q2words))\n",
    "        #print(\"shared words ratio:\",ratio_shared)\n",
    "    #print(\"R was:\",R)\n",
    "    return R\n",
    "\n",
    "plt.figure(figsize=(15, 5))\n",
    "train_word_match = df_train.apply(word_match_share, axis=1, raw=True)\n",
    "plt.hist(train_word_match[df_train['is_duplicate'] == 0], bins=20, normed=True, label='Not Duplicate')\n",
    "plt.hist(train_word_match[df_train['is_duplicate'] == 1], bins=20, normed=True, alpha=0.7, label='Duplicate')\n",
    "plt.legend()\n",
    "plt.title('Label distribution over word_match_share is', fontsize=15)\n",
    "plt.xlabel('word_match_share', fontsize=15)"
   ]
  },
  {
   "cell_type": "markdown",
   "metadata": {
    "collapsed": true
   },
   "source": [
    "<h4> TF-IDF"
   ]
  },
  {
   "cell_type": "markdown",
   "metadata": {},
   "source": [
    "We now use TF-IDF to analyze the relation between questions. We will use the TfidfVectorizer to find the weights of the words."
   ]
  },
  {
   "cell_type": "code",
   "execution_count": 21,
   "metadata": {
    "collapsed": false
   },
   "outputs": [
    {
     "name": "stdout",
     "output_type": "stream",
     "text": [
      "Extracting tf-idf features for questions...\n"
     ]
    }
   ],
   "source": [
    "from sklearn.feature_extraction.text import TfidfVectorizer, CountVectorizer\n",
    "print(\"Extracting tf-idf features for questions...\")\n",
    "tfidf_vectorizer = TfidfVectorizer(max_df=0.95, min_df=2,\n",
    "                                   max_features=1000)#, stop_words='english')\n",
    "data_samples = (\" \".join(ques_train)).lower().split()\n",
    "tfidf = tfidf_vectorizer.fit_transform(data_samples)"
   ]
  },
  {
   "cell_type": "code",
   "execution_count": 22,
   "metadata": {
    "collapsed": false
   },
   "outputs": [
    {
     "name": "stdout",
     "output_type": "stream",
     "text": [
      "{'000': 9.6294261725757266, '10': 8.5643057806579375, '100': 9.6182320258325742, '1000': 8.1409658865069581, '11': 10.063437462590253, '12': 9.7313875659569096, '15': 9.7203681707072995, '16': 10.010793729104831, '18': 10.117987425844317, '20': 9.5391888184921214}\n"
     ]
    }
   ],
   "source": [
    "#now print the top words using the tfidf object created above\n",
    "tfidf_feature_names = tfidf_vectorizer.get_feature_names()\n",
    "#print(tfidf_feature_names)\n",
    "weights = dict(zip(tfidf_vectorizer.get_feature_names(), tfidf_vectorizer.idf_))\n",
    "print(dict(zip(tfidf_vectorizer.get_feature_names()[:10], tfidf_vectorizer.idf_[:10])))"
   ]
  },
  {
   "cell_type": "code",
   "execution_count": 23,
   "metadata": {
    "collapsed": false
   },
   "outputs": [],
   "source": [
    "'''\n",
    "from collections import Counter\n",
    "\n",
    "# If a word appears only once, we ignore it completely (likely a typo)\n",
    "# Epsilon defines a smoothing constant, which makes the effect of extremely rare words smaller\n",
    "def get_weight(count, eps=10000, min_count=2):\n",
    "    if count < min_count:\n",
    "        return 0\n",
    "    else:\n",
    "        return 1 / (count + eps)\n",
    "\n",
    "eps = 5000 \n",
    "words = (\" \".join(ques_train)).lower().split()\n",
    "counts = Counter(words)\n",
    "weights = {word: get_weight(count) for word, count in counts.items()}\n",
    "'''\n",
    "\n",
    "def tfidf_word_match_share(row):\n",
    "    q1words = {}\n",
    "    q2words = {}\n",
    "    for word in str(row['question1']).lower().split():\n",
    "        if word not in stops:\n",
    "            q1words[word] = 1\n",
    "    for word in str(row['question2']).lower().split():\n",
    "        if word not in stops:\n",
    "            q2words[word] = 1\n",
    "    if len(q1words) == 0 or len(q2words) == 0:\n",
    "        # The computer-generated chaff includes a few questions that are nothing but stopwords\n",
    "        return 0\n",
    "    \n",
    "    shared_weights = [weights.get(w, 0) for w in q1words.keys() if w in q2words] + [weights.get(w, 0) for w in q2words.keys() if w in q1words]\n",
    "    total_weights = [weights.get(w, 0) for w in q1words] + [weights.get(w, 0) for w in q2words]\n",
    "    \n",
    "    R = np.sum(shared_weights) / np.sum(total_weights)\n",
    "    return R"
   ]
  },
  {
   "cell_type": "code",
   "execution_count": 24,
   "metadata": {
    "collapsed": false
   },
   "outputs": [
    {
     "name": "stderr",
     "output_type": "stream",
     "text": [
      "C:\\Users\\rbaral\\Anaconda3\\lib\\site-packages\\ipykernel\\__main__.py:34: RuntimeWarning: invalid value encountered in long_scalars\n",
      "C:\\Users\\rbaral\\Anaconda3\\lib\\site-packages\\ipykernel\\__main__.py:34: RuntimeWarning: invalid value encountered in double_scalars\n"
     ]
    },
    {
     "data": {
      "text/plain": [
       "<matplotlib.text.Text at 0xdd8e588>"
      ]
     },
     "execution_count": 24,
     "metadata": {},
     "output_type": "execute_result"
    },
    {
     "data": {
      "image/png": "[encoded data removed]",
      "text/plain": [
       "<matplotlib.figure.Figure at 0xe3e2748>"
      ]
     },
     "metadata": {},
     "output_type": "display_data"
    }
   ],
   "source": [
    "plt.figure(figsize=(15, 5))\n",
    "tfidf_train_word_match = df_train.apply(tfidf_word_match_share, axis=1, raw=True)\n",
    "plt.hist(tfidf_train_word_match[df_train['is_duplicate'] == 0].fillna(0), bins=20, normed=True, label='Not Duplicate')\n",
    "plt.hist(tfidf_train_word_match[df_train['is_duplicate'] == 1].fillna(0), bins=20, normed=True, alpha=0.7, label='Duplicate')\n",
    "plt.legend()\n",
    "plt.title('Label distribution over tfidf_word_match_share', fontsize=15)\n",
    "plt.xlabel('word_match_share', fontsize=15)"
   ]
  },
  {
   "cell_type": "code",
   "execution_count": 25,
   "metadata": {
    "collapsed": false
   },
   "outputs": [
    {
     "name": "stdout",
     "output_type": "stream",
     "text": [
      "Original AUC: 0.780553200628\n",
      "   TFIDF AUC: 0.672712841757\n"
     ]
    }
   ],
   "source": [
    "from sklearn.metrics import roc_auc_score\n",
    "print('Original AUC:', roc_auc_score(df_train['is_duplicate'], train_word_match))\n",
    "print('   TFIDF AUC:', roc_auc_score(df_train['is_duplicate'], tfidf_train_word_match.fillna(0)))"
   ]
  },
  {
   "cell_type": "markdown",
   "metadata": {
    "collapsed": true
   },
   "source": [
    "It looks like the AUC of tf-idf is not good. So we need to balance the data by combining these features.\n"
   ]
  },
  {
   "cell_type": "markdown",
   "metadata": {},
   "source": [
    "<h5> Rebalancing data"
   ]
  },
  {
   "cell_type": "markdown",
   "metadata": {},
   "source": [
    "However, before I do this, I would like to rebalance the data that XGBoost receives, since we have 37% positive class in our training data, and only 17% in the test data. By re-balancing the data so our training set has 17% positives, we can ensure that XGBoost outputs probabilities that will better match the data on the leaderboard, and should get a better score (since LogLoss looks at the probabilities themselves and not just the order of the predictions like AUC)"
   ]
  },
  {
   "cell_type": "code",
   "execution_count": null,
   "metadata": {
    "collapsed": false
   },
   "outputs": [],
   "source": [
    "# First we create our training and testing data\n",
    "print(\"creating train and test data\")\n",
    "x_train = pd.DataFrame()\n",
    "x_test = pd.DataFrame()\n",
    "x_train['word_match'] = train_word_match\n",
    "x_train['tfidf_word_match'] = tfidf_train_word_match\n",
    "x_test['word_match'] = df_test.apply(word_match_share, axis=1, raw=True)\n",
    "x_test['tfidf_word_match'] = df_test.apply(tfidf_word_match_share, axis=1, raw=True)\n",
    "\n",
    "y_train = df_train['is_duplicate'].values"
   ]
  },
  {
   "cell_type": "code",
   "execution_count": 27,
   "metadata": {
    "collapsed": false
   },
   "outputs": [
    {
     "name": "stdout",
     "output_type": "stream",
     "text": [
      "0.19124366100096607\n"
     ]
    }
   ],
   "source": [
    "pos_train = x_train[y_train == 1]\n",
    "neg_train = x_train[y_train == 0]\n",
    "\n",
    "# Now we oversample the negative class\n",
    "# There is likely a much more elegant way to do this...\n",
    "p = 0.165\n",
    "scale = ((len(pos_train) / (len(pos_train) + len(neg_train))) / p) - 1\n",
    "while scale > 1:\n",
    "    neg_train = pd.concat([neg_train, neg_train])\n",
    "    scale -=1\n",
    "neg_train = pd.concat([neg_train, neg_train[:int(scale * len(neg_train))]])\n",
    "print(len(pos_train) / (len(pos_train) + len(neg_train)))\n",
    "\n",
    "x_train = pd.concat([pos_train, neg_train])\n",
    "y_train = (np.zeros(len(pos_train)) + 1).tolist() + np.zeros(len(neg_train)).tolist()\n",
    "del pos_train, neg_train"
   ]
  },
  {
   "cell_type": "code",
   "execution_count": 28,
   "metadata": {
    "collapsed": false
   },
   "outputs": [
    {
     "name": "stderr",
     "output_type": "stream",
     "text": [
      "C:\\Users\\rbaral\\Anaconda3\\lib\\site-packages\\sklearn\\cross_validation.py:44: DeprecationWarning: This module was deprecated in version 0.18 in favor of the model_selection module into which all the refactored classes and functions are moved. Also note that the interface of the new CV iterators are different from that of this module. This module will be removed in 0.20.\n",
      "  \"This module will be removed in 0.20.\", DeprecationWarning)\n"
     ]
    }
   ],
   "source": [
    "# Finally, we split some of the data off for validation\n",
    "from sklearn.cross_validation import train_test_split\n",
    "\n",
    "x_train, x_valid, y_train, y_valid = train_test_split(x_train, y_train, test_size=0.2, random_state=4242)"
   ]
  },
  {
   "cell_type": "code",
   "execution_count": 30,
   "metadata": {
    "collapsed": false
   },
   "outputs": [
    {
     "name": "stdout",
     "output_type": "stream",
     "text": [
      "[0]\ttrain-logloss:0.682984\tvalid-logloss:0.68303\n",
      "Multiple eval metrics have been passed: 'valid-logloss' will be used for early stopping.\n",
      "\n",
      "Will train until valid-logloss hasn't improved in 50 rounds.\n",
      "[10]\ttrain-logloss:0.600105\tvalid-logloss:0.600556\n",
      "[20]\ttrain-logloss:0.541625\tvalid-logloss:0.542397\n",
      "[30]\ttrain-logloss:0.498981\tvalid-logloss:0.500009\n",
      "[40]\ttrain-logloss:0.467175\tvalid-logloss:0.468409\n",
      "[50]\ttrain-logloss:0.443072\tvalid-logloss:0.444479\n",
      "[60]\ttrain-logloss:0.424593\tvalid-logloss:0.426139\n",
      "[70]\ttrain-logloss:0.410283\tvalid-logloss:0.411942\n",
      "[80]\ttrain-logloss:0.399121\tvalid-logloss:0.400873\n",
      "[90]\ttrain-logloss:0.390368\tvalid-logloss:0.392206\n",
      "[100]\ttrain-logloss:0.383465\tvalid-logloss:0.385375\n",
      "[110]\ttrain-logloss:0.378061\tvalid-logloss:0.380026\n",
      "[120]\ttrain-logloss:0.373789\tvalid-logloss:0.375796\n",
      "[130]\ttrain-logloss:0.3704\tvalid-logloss:0.372442\n",
      "[140]\ttrain-logloss:0.367709\tvalid-logloss:0.369781\n",
      "[150]\ttrain-logloss:0.365566\tvalid-logloss:0.367669\n",
      "[160]\ttrain-logloss:0.363858\tvalid-logloss:0.365982\n",
      "[170]\ttrain-logloss:0.362487\tvalid-logloss:0.364626\n",
      "[180]\ttrain-logloss:0.361391\tvalid-logloss:0.363545\n",
      "[190]\ttrain-logloss:0.360518\tvalid-logloss:0.362685\n",
      "[200]\ttrain-logloss:0.359783\tvalid-logloss:0.361961\n",
      "[210]\ttrain-logloss:0.359196\tvalid-logloss:0.361381\n",
      "[220]\ttrain-logloss:0.358713\tvalid-logloss:0.360909\n",
      "[230]\ttrain-logloss:0.358308\tvalid-logloss:0.360515\n",
      "[240]\ttrain-logloss:0.357982\tvalid-logloss:0.360198\n",
      "[250]\ttrain-logloss:0.357708\tvalid-logloss:0.359933\n",
      "[260]\ttrain-logloss:0.357448\tvalid-logloss:0.359688\n",
      "[270]\ttrain-logloss:0.357197\tvalid-logloss:0.359452\n",
      "[280]\ttrain-logloss:0.356965\tvalid-logloss:0.359234\n",
      "[290]\ttrain-logloss:0.356822\tvalid-logloss:0.359103\n",
      "[300]\ttrain-logloss:0.356684\tvalid-logloss:0.358979\n",
      "[310]\ttrain-logloss:0.356576\tvalid-logloss:0.358885\n",
      "[320]\ttrain-logloss:0.356465\tvalid-logloss:0.358789\n",
      "[330]\ttrain-logloss:0.356376\tvalid-logloss:0.358712\n",
      "[340]\ttrain-logloss:0.3563\tvalid-logloss:0.358649\n",
      "[350]\ttrain-logloss:0.356227\tvalid-logloss:0.358582\n",
      "[360]\ttrain-logloss:0.35617\tvalid-logloss:0.358532\n",
      "[370]\ttrain-logloss:0.35612\tvalid-logloss:0.358491\n",
      "[380]\ttrain-logloss:0.356056\tvalid-logloss:0.358433\n",
      "[390]\ttrain-logloss:0.356002\tvalid-logloss:0.358387\n"
     ]
    }
   ],
   "source": [
    "import xgboost as xgb\n",
    "\n",
    "# Set our parameters for xgboost\n",
    "params = {}\n",
    "params['objective'] = 'binary:logistic'\n",
    "params['eval_metric'] = 'logloss'\n",
    "params['eta'] = 0.02\n",
    "params['max_depth'] = 4\n",
    "\n",
    "d_train = xgb.DMatrix(x_train, label=y_train)\n",
    "d_valid = xgb.DMatrix(x_valid, label=y_valid)\n",
    "\n",
    "watchlist = [(d_train, 'train'), (d_valid, 'valid')]\n",
    "\n",
    "bst = xgb.train(params, d_train, 400, watchlist, early_stopping_rounds=50, verbose_eval=10)"
   ]
  },
  {
   "cell_type": "code",
   "execution_count": 31,
   "metadata": {
    "collapsed": false
   },
   "outputs": [
    {
     "name": "stdout",
     "output_type": "stream",
     "text": [
      "sample submission file with xgboost has been generated\n"
     ]
    }
   ],
   "source": [
    "d_test = xgb.DMatrix(x_test)\n",
    "p_test = bst.predict(d_test)\n",
    "\n",
    "sub = pd.DataFrame()\n",
    "sub['test_id'] = df_test['test_id']\n",
    "sub['is_duplicate'] = p_test\n",
    "sub.to_csv('simple_xgb.csv', index=False)\n",
    "print(\"sample submission file with xgboost has been generated\")"
   ]
  },
  {
   "cell_type": "markdown",
   "metadata": {},
   "source": [
    "<h4> References:   "
   ]
  },
  {
   "cell_type": "markdown",
   "metadata": {},
   "source": [
    "<ol>\n",
    "<li>\n",
    "    https://www.kaggle.com/anokas/data-analysis-xgboost-starter-0-35460-lb\n",
    "</li>\n",
    "<li> \n",
    "    http://scikit-learn.org/stable/auto_examples/applications/topics_extraction_with_nmf_lda.html#sphx-glr-auto-examples-applications-topics-extraction-with-nmf-lda-py\n",
    "</li>\n",
    "<li>\n",
    "https://github.com/amueller/word_cloud/issues/134\n",
    "</li>\n",
    "<li>\n",
    "https://www.kaggle.com/davidthaler/how-many-1-s-are-in-the-public-lb\n",
    "</li>\n",
    "<li> https://stackoverflow.com/questions/33749735/how-to-install-xgboost-package-in-python-windows-platform </li>\n",
    "</ol>"
   ]
  },
  {
   "cell_type": "markdown",
   "metadata": {
    "collapsed": true
   },
   "source": [
    "<h4> Appendix"
   ]
  },
  {
   "cell_type": "markdown",
   "metadata": {},
   "source": [
    "<ol>\n",
    "<li>\n",
    "Installing Wordcloud in Windows machine (https://github.com/amueller/word_cloud/issues/134):\n",
    "    <br />\n",
    "    Here are the steps:\n",
    "<br/>\n",
    "Download the .whl file compatible with your Python version and your windows distribution (32bit or 64bit) from here\n",
    "cd to the file path\n",
    "<br/>\n",
    "Run this command python -m pip install <filename>\n",
    "<br/>\n",
    "This installed worcloud 1.2.1. I tried the simple example and it worked.\n",
    "<br/>\n",
    "</li>\n",
    "<li> Installing xgboost in Windows machine (https://stackoverflow.com/questions/33749735/how-to-install-xgboost-package-in-python-windows-platform):\n",
    "<br />\n",
    "download xgboost whl file from http://www.lfd.uci.edu/~gohlke/pythonlibs/ (make sure to match your python version and system architecture, e.g. \"xgboost-0.6-cp35-cp35m-win_amd64.whl\" for python 3.5 on 64-bit machine)\n",
    "open command prompt\n",
    "cd to your Downloads folder (or wherever you saved the whl file)\n",
    "pip install xgboost-0.6-cp35-cp35m-win_amd64.whl (or whatever your whl file is named)\n",
    "If you find it won't install because of a missing dependency, download and install the dependency first and retry.\n",
    "\n",
    "If it complains about access permissions, try opening your command prompt as Administrator and retry.\n",
    "\n",
    "This gives you xgboost and the scikit-learn wrapper, and saves you from having to go through the pain of compiling it yourself. :)\n",
    "</li>\n",
    "</ol>"
   ]
  },
  {
   "cell_type": "code",
   "execution_count": null,
   "metadata": {
    "collapsed": true
   },
   "outputs": [],
   "source": []
  }
 ],
 "metadata": {
  "kernelspec": {
   "display_name": "Python 3",
   "language": "python",
   "name": "python3"
  },
  "language_info": {
   "codemirror_mode": {
    "name": "ipython",
    "version": 3
   },
   "file_extension": ".py",
   "mimetype": "text/x-python",
   "name": "python",
   "nbconvert_exporter": "python",
   "pygments_lexer": "ipython3",
   "version": "3.6.0"
  }
 },
 "nbformat": 4,
 "nbformat_minor": 2
}
