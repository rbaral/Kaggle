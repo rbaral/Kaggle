{
 "cells": [
  {
   "cell_type": "code",
   "execution_count": 70,
   "metadata": {},
   "outputs": [
    {
     "data": {
      "text/html": [
       "<style>.container { width:100% !important; }</style>"
      ],
      "text/plain": [
       "<IPython.core.display.HTML object>"
      ]
     },
     "metadata": {},
     "output_type": "display_data"
    }
   ],
   "source": [
    "from IPython.core.display import display, HTML\n",
    "display(HTML(\"<style>.container { width:100% !important; }</style>\"))\n",
    "import matplotlib.pyplot as plt\n",
    "import os\n",
    "import pandas as pd\n",
    "import numpy as np\n",
    "import seaborn as sns\n",
    "from sklearn.feature_extraction.text import TfidfVectorizer\n",
    "from collections import Counter\n",
    "#pandas max width printing\n",
    "pd.set_option('display.max_colwidth', -1)"
   ]
  },
  {
   "cell_type": "code",
   "execution_count": 71,
   "metadata": {},
   "outputs": [
    {
     "data": {
      "application/javascript": [
       "IPython.OutputArea.auto_scroll_threshold = 99999\n"
      ],
      "text/plain": [
       "<IPython.core.display.Javascript object>"
      ]
     },
     "metadata": {},
     "output_type": "display_data"
    }
   ],
   "source": [
    "%%javascript\n",
    "IPython.OutputArea.auto_scroll_threshold = 99999"
   ]
  },
  {
   "cell_type": "code",
   "execution_count": 3,
   "metadata": {},
   "outputs": [],
   "source": [
    "df_train = pd.read_csv(\"train.csv\")\n",
    "df_test = pd.read_csv(\"test.csv\")\n",
    "df_sub = pd.read_csv(\"sample_submission.csv\")"
   ]
  },
  {
   "cell_type": "code",
   "execution_count": 4,
   "metadata": {},
   "outputs": [
    {
     "data": {
      "text/html": [
       "<div>\n",
       "<style scoped>\n",
       "    .dataframe tbody tr th:only-of-type {\n",
       "        vertical-align: middle;\n",
       "    }\n",
       "\n",
       "    .dataframe tbody tr th {\n",
       "        vertical-align: top;\n",
       "    }\n",
       "\n",
       "    .dataframe thead th {\n",
       "        text-align: right;\n",
       "    }\n",
       "</style>\n",
       "<table border=\"1\" class=\"dataframe\">\n",
       "  <thead>\n",
       "    <tr style=\"text-align: right;\">\n",
       "      <th></th>\n",
       "      <th>id</th>\n",
       "      <th>target</th>\n",
       "    </tr>\n",
       "  </thead>\n",
       "  <tbody>\n",
       "    <tr>\n",
       "      <td>0</td>\n",
       "      <td>0</td>\n",
       "      <td>0</td>\n",
       "    </tr>\n",
       "    <tr>\n",
       "      <td>1</td>\n",
       "      <td>2</td>\n",
       "      <td>0</td>\n",
       "    </tr>\n",
       "    <tr>\n",
       "      <td>2</td>\n",
       "      <td>3</td>\n",
       "      <td>0</td>\n",
       "    </tr>\n",
       "    <tr>\n",
       "      <td>3</td>\n",
       "      <td>9</td>\n",
       "      <td>0</td>\n",
       "    </tr>\n",
       "    <tr>\n",
       "      <td>4</td>\n",
       "      <td>11</td>\n",
       "      <td>0</td>\n",
       "    </tr>\n",
       "  </tbody>\n",
       "</table>\n",
       "</div>"
      ],
      "text/plain": [
       "   id  target\n",
       "0   0       0\n",
       "1   2       0\n",
       "2   3       0\n",
       "3   9       0\n",
       "4  11       0"
      ]
     },
     "execution_count": 4,
     "metadata": {},
     "output_type": "execute_result"
    }
   ],
   "source": [
    "df_sub.head()"
   ]
  },
  {
   "cell_type": "code",
   "execution_count": 7,
   "metadata": {},
   "outputs": [
    {
     "name": "stdout",
     "output_type": "stream",
     "text": [
      "[(0, 3263)]\n"
     ]
    }
   ],
   "source": [
    "counts = Counter(df_sub[\"target\"].values)\n",
    "print(counts.most_common())"
   ]
  },
  {
   "cell_type": "code",
   "execution_count": 25,
   "metadata": {},
   "outputs": [],
   "source": [
    "#lets randomly populate the entries for submission and check how much we can gain\n",
    "tar = []\n",
    "for index in range(df_sub.shape[0]):\n",
    "    random_num = random.randint(0,1)\n",
    "    if random_num==0:\n",
    "        tar.append(0)\n",
    "    else:\n",
    "        tar.append(1)\n",
    "df_sub[\"target\"] = tar"
   ]
  },
  {
   "cell_type": "code",
   "execution_count": 27,
   "metadata": {},
   "outputs": [
    {
     "data": {
      "text/html": [
       "<div>\n",
       "<style scoped>\n",
       "    .dataframe tbody tr th:only-of-type {\n",
       "        vertical-align: middle;\n",
       "    }\n",
       "\n",
       "    .dataframe tbody tr th {\n",
       "        vertical-align: top;\n",
       "    }\n",
       "\n",
       "    .dataframe thead th {\n",
       "        text-align: right;\n",
       "    }\n",
       "</style>\n",
       "<table border=\"1\" class=\"dataframe\">\n",
       "  <thead>\n",
       "    <tr style=\"text-align: right;\">\n",
       "      <th></th>\n",
       "      <th>id</th>\n",
       "      <th>target</th>\n",
       "    </tr>\n",
       "  </thead>\n",
       "  <tbody>\n",
       "    <tr>\n",
       "      <td>0</td>\n",
       "      <td>0</td>\n",
       "      <td>1</td>\n",
       "    </tr>\n",
       "    <tr>\n",
       "      <td>1</td>\n",
       "      <td>2</td>\n",
       "      <td>1</td>\n",
       "    </tr>\n",
       "    <tr>\n",
       "      <td>2</td>\n",
       "      <td>3</td>\n",
       "      <td>1</td>\n",
       "    </tr>\n",
       "    <tr>\n",
       "      <td>3</td>\n",
       "      <td>9</td>\n",
       "      <td>0</td>\n",
       "    </tr>\n",
       "    <tr>\n",
       "      <td>4</td>\n",
       "      <td>11</td>\n",
       "      <td>1</td>\n",
       "    </tr>\n",
       "  </tbody>\n",
       "</table>\n",
       "</div>"
      ],
      "text/plain": [
       "   id  target\n",
       "0   0       1\n",
       "1   2       1\n",
       "2   3       1\n",
       "3   9       0\n",
       "4  11       1"
      ]
     },
     "execution_count": 27,
     "metadata": {},
     "output_type": "execute_result"
    }
   ],
   "source": [
    "df_sub.head()"
   ]
  },
  {
   "cell_type": "code",
   "execution_count": 29,
   "metadata": {},
   "outputs": [
    {
     "data": {
      "text/plain": [
       "(3263, 2)"
      ]
     },
     "execution_count": 29,
     "metadata": {},
     "output_type": "execute_result"
    }
   ],
   "source": [
    "df_sub.shape"
   ]
  },
  {
   "cell_type": "code",
   "execution_count": 30,
   "metadata": {},
   "outputs": [],
   "source": [
    "df_sub.to_csv(\"submission_random.csv\", index=False)"
   ]
  },
  {
   "cell_type": "code",
   "execution_count": null,
   "metadata": {},
   "outputs": [],
   "source": [
    "#random target got 0.51022 score and 909 position out of 919"
   ]
  },
  {
   "cell_type": "code",
   "execution_count": 31,
   "metadata": {},
   "outputs": [
    {
     "data": {
      "text/html": [
       "<div>\n",
       "<style scoped>\n",
       "    .dataframe tbody tr th:only-of-type {\n",
       "        vertical-align: middle;\n",
       "    }\n",
       "\n",
       "    .dataframe tbody tr th {\n",
       "        vertical-align: top;\n",
       "    }\n",
       "\n",
       "    .dataframe thead th {\n",
       "        text-align: right;\n",
       "    }\n",
       "</style>\n",
       "<table border=\"1\" class=\"dataframe\">\n",
       "  <thead>\n",
       "    <tr style=\"text-align: right;\">\n",
       "      <th></th>\n",
       "      <th>id</th>\n",
       "      <th>keyword</th>\n",
       "      <th>location</th>\n",
       "      <th>text</th>\n",
       "      <th>target</th>\n",
       "    </tr>\n",
       "  </thead>\n",
       "  <tbody>\n",
       "    <tr>\n",
       "      <td>0</td>\n",
       "      <td>1</td>\n",
       "      <td>NaN</td>\n",
       "      <td>NaN</td>\n",
       "      <td>Our Deeds are the Reason of this #earthquake M...</td>\n",
       "      <td>1</td>\n",
       "    </tr>\n",
       "    <tr>\n",
       "      <td>1</td>\n",
       "      <td>4</td>\n",
       "      <td>NaN</td>\n",
       "      <td>NaN</td>\n",
       "      <td>Forest fire near La Ronge Sask. Canada</td>\n",
       "      <td>1</td>\n",
       "    </tr>\n",
       "    <tr>\n",
       "      <td>2</td>\n",
       "      <td>5</td>\n",
       "      <td>NaN</td>\n",
       "      <td>NaN</td>\n",
       "      <td>All residents asked to 'shelter in place' are ...</td>\n",
       "      <td>1</td>\n",
       "    </tr>\n",
       "    <tr>\n",
       "      <td>3</td>\n",
       "      <td>6</td>\n",
       "      <td>NaN</td>\n",
       "      <td>NaN</td>\n",
       "      <td>13,000 people receive #wildfires evacuation or...</td>\n",
       "      <td>1</td>\n",
       "    </tr>\n",
       "    <tr>\n",
       "      <td>4</td>\n",
       "      <td>7</td>\n",
       "      <td>NaN</td>\n",
       "      <td>NaN</td>\n",
       "      <td>Just got sent this photo from Ruby #Alaska as ...</td>\n",
       "      <td>1</td>\n",
       "    </tr>\n",
       "  </tbody>\n",
       "</table>\n",
       "</div>"
      ],
      "text/plain": [
       "   id keyword location                                               text  \\\n",
       "0   1     NaN      NaN  Our Deeds are the Reason of this #earthquake M...   \n",
       "1   4     NaN      NaN             Forest fire near La Ronge Sask. Canada   \n",
       "2   5     NaN      NaN  All residents asked to 'shelter in place' are ...   \n",
       "3   6     NaN      NaN  13,000 people receive #wildfires evacuation or...   \n",
       "4   7     NaN      NaN  Just got sent this photo from Ruby #Alaska as ...   \n",
       "\n",
       "   target  \n",
       "0       1  \n",
       "1       1  \n",
       "2       1  \n",
       "3       1  \n",
       "4       1  "
      ]
     },
     "execution_count": 31,
     "metadata": {},
     "output_type": "execute_result"
    }
   ],
   "source": [
    "df_train.head()"
   ]
  },
  {
   "cell_type": "code",
   "execution_count": 32,
   "metadata": {},
   "outputs": [
    {
     "data": {
      "text/plain": [
       "(7613, 5)"
      ]
     },
     "execution_count": 32,
     "metadata": {},
     "output_type": "execute_result"
    }
   ],
   "source": [
    "df_train.shape"
   ]
  },
  {
   "cell_type": "code",
   "execution_count": 33,
   "metadata": {},
   "outputs": [
    {
     "data": {
      "text/plain": [
       "(3263, 4)"
      ]
     },
     "execution_count": 33,
     "metadata": {},
     "output_type": "execute_result"
    }
   ],
   "source": [
    "df_test.shape"
   ]
  },
  {
   "cell_type": "code",
   "execution_count": 34,
   "metadata": {},
   "outputs": [
    {
     "data": {
      "text/plain": [
       "Index(['id', 'keyword', 'location', 'text', 'target'], dtype='object')"
      ]
     },
     "execution_count": 34,
     "metadata": {},
     "output_type": "execute_result"
    }
   ],
   "source": [
    "df_train.columns"
   ]
  },
  {
   "cell_type": "code",
   "execution_count": 35,
   "metadata": {},
   "outputs": [
    {
     "data": {
      "text/plain": [
       "Index(['id', 'keyword', 'location', 'text'], dtype='object')"
      ]
     },
     "execution_count": 35,
     "metadata": {},
     "output_type": "execute_result"
    }
   ],
   "source": [
    "df_test.columns"
   ]
  },
  {
   "cell_type": "code",
   "execution_count": 36,
   "metadata": {},
   "outputs": [
    {
     "data": {
      "text/plain": [
       "id             0\n",
       "keyword       61\n",
       "location    2533\n",
       "text           0\n",
       "target         0\n",
       "dtype: int64"
      ]
     },
     "execution_count": 36,
     "metadata": {},
     "output_type": "execute_result"
    }
   ],
   "source": [
    "df_train.isnull().sum()"
   ]
  },
  {
   "cell_type": "code",
   "execution_count": 37,
   "metadata": {},
   "outputs": [
    {
     "data": {
      "text/plain": [
       "id             0\n",
       "keyword       26\n",
       "location    1105\n",
       "text           0\n",
       "dtype: int64"
      ]
     },
     "execution_count": 37,
     "metadata": {},
     "output_type": "execute_result"
    }
   ],
   "source": [
    "#lot of null entries for location, few keywords are missing, lets see for test\n",
    "df_test.isnull().sum()"
   ]
  },
  {
   "cell_type": "code",
   "execution_count": 38,
   "metadata": {},
   "outputs": [
    {
     "data": {
      "text/html": [
       "<div>\n",
       "<style scoped>\n",
       "    .dataframe tbody tr th:only-of-type {\n",
       "        vertical-align: middle;\n",
       "    }\n",
       "\n",
       "    .dataframe tbody tr th {\n",
       "        vertical-align: top;\n",
       "    }\n",
       "\n",
       "    .dataframe thead th {\n",
       "        text-align: right;\n",
       "    }\n",
       "</style>\n",
       "<table border=\"1\" class=\"dataframe\">\n",
       "  <thead>\n",
       "    <tr style=\"text-align: right;\">\n",
       "      <th></th>\n",
       "      <th>id</th>\n",
       "      <th>keyword</th>\n",
       "      <th>location</th>\n",
       "      <th>text</th>\n",
       "      <th>target</th>\n",
       "    </tr>\n",
       "  </thead>\n",
       "  <tbody>\n",
       "    <tr>\n",
       "      <td>0</td>\n",
       "      <td>1</td>\n",
       "      <td>NaN</td>\n",
       "      <td>NaN</td>\n",
       "      <td>Our Deeds are the Reason of this #earthquake M...</td>\n",
       "      <td>1</td>\n",
       "    </tr>\n",
       "    <tr>\n",
       "      <td>1</td>\n",
       "      <td>4</td>\n",
       "      <td>NaN</td>\n",
       "      <td>NaN</td>\n",
       "      <td>Forest fire near La Ronge Sask. Canada</td>\n",
       "      <td>1</td>\n",
       "    </tr>\n",
       "    <tr>\n",
       "      <td>2</td>\n",
       "      <td>5</td>\n",
       "      <td>NaN</td>\n",
       "      <td>NaN</td>\n",
       "      <td>All residents asked to 'shelter in place' are ...</td>\n",
       "      <td>1</td>\n",
       "    </tr>\n",
       "    <tr>\n",
       "      <td>3</td>\n",
       "      <td>6</td>\n",
       "      <td>NaN</td>\n",
       "      <td>NaN</td>\n",
       "      <td>13,000 people receive #wildfires evacuation or...</td>\n",
       "      <td>1</td>\n",
       "    </tr>\n",
       "    <tr>\n",
       "      <td>4</td>\n",
       "      <td>7</td>\n",
       "      <td>NaN</td>\n",
       "      <td>NaN</td>\n",
       "      <td>Just got sent this photo from Ruby #Alaska as ...</td>\n",
       "      <td>1</td>\n",
       "    </tr>\n",
       "    <tr>\n",
       "      <td>5</td>\n",
       "      <td>8</td>\n",
       "      <td>NaN</td>\n",
       "      <td>NaN</td>\n",
       "      <td>#RockyFire Update =&gt; California Hwy. 20 closed...</td>\n",
       "      <td>1</td>\n",
       "    </tr>\n",
       "    <tr>\n",
       "      <td>6</td>\n",
       "      <td>10</td>\n",
       "      <td>NaN</td>\n",
       "      <td>NaN</td>\n",
       "      <td>#flood #disaster Heavy rain causes flash flood...</td>\n",
       "      <td>1</td>\n",
       "    </tr>\n",
       "    <tr>\n",
       "      <td>7</td>\n",
       "      <td>13</td>\n",
       "      <td>NaN</td>\n",
       "      <td>NaN</td>\n",
       "      <td>I'm on top of the hill and I can see a fire in...</td>\n",
       "      <td>1</td>\n",
       "    </tr>\n",
       "    <tr>\n",
       "      <td>8</td>\n",
       "      <td>14</td>\n",
       "      <td>NaN</td>\n",
       "      <td>NaN</td>\n",
       "      <td>There's an emergency evacuation happening now ...</td>\n",
       "      <td>1</td>\n",
       "    </tr>\n",
       "    <tr>\n",
       "      <td>9</td>\n",
       "      <td>15</td>\n",
       "      <td>NaN</td>\n",
       "      <td>NaN</td>\n",
       "      <td>I'm afraid that the tornado is coming to our a...</td>\n",
       "      <td>1</td>\n",
       "    </tr>\n",
       "  </tbody>\n",
       "</table>\n",
       "</div>"
      ],
      "text/plain": [
       "   id keyword location                                               text  \\\n",
       "0   1     NaN      NaN  Our Deeds are the Reason of this #earthquake M...   \n",
       "1   4     NaN      NaN             Forest fire near La Ronge Sask. Canada   \n",
       "2   5     NaN      NaN  All residents asked to 'shelter in place' are ...   \n",
       "3   6     NaN      NaN  13,000 people receive #wildfires evacuation or...   \n",
       "4   7     NaN      NaN  Just got sent this photo from Ruby #Alaska as ...   \n",
       "5   8     NaN      NaN  #RockyFire Update => California Hwy. 20 closed...   \n",
       "6  10     NaN      NaN  #flood #disaster Heavy rain causes flash flood...   \n",
       "7  13     NaN      NaN  I'm on top of the hill and I can see a fire in...   \n",
       "8  14     NaN      NaN  There's an emergency evacuation happening now ...   \n",
       "9  15     NaN      NaN  I'm afraid that the tornado is coming to our a...   \n",
       "\n",
       "   target  \n",
       "0       1  \n",
       "1       1  \n",
       "2       1  \n",
       "3       1  \n",
       "4       1  \n",
       "5       1  \n",
       "6       1  \n",
       "7       1  \n",
       "8       1  \n",
       "9       1  "
      ]
     },
     "execution_count": 38,
     "metadata": {},
     "output_type": "execute_result"
    }
   ],
   "source": [
    "df_train.head(10)"
   ]
  },
  {
   "cell_type": "code",
   "execution_count": 43,
   "metadata": {},
   "outputs": [],
   "source": [
    "#lets analyze some of the entries with target 1 and some with target 0\n",
    "df_train_pos = df_train[df_train[\"target\"]==1]\n",
    "df_train_neg = df_train[df_train[\"target\"]==0]"
   ]
  },
  {
   "cell_type": "code",
   "execution_count": 44,
   "metadata": {},
   "outputs": [
    {
     "data": {
      "text/plain": [
       "(3271, 6)"
      ]
     },
     "execution_count": 44,
     "metadata": {},
     "output_type": "execute_result"
    }
   ],
   "source": [
    "df_train_pos.shape"
   ]
  },
  {
   "cell_type": "code",
   "execution_count": 45,
   "metadata": {},
   "outputs": [
    {
     "data": {
      "text/plain": [
       "(4342, 6)"
      ]
     },
     "execution_count": 45,
     "metadata": {},
     "output_type": "execute_result"
    }
   ],
   "source": [
    "df_train_neg.shape"
   ]
  },
  {
   "cell_type": "code",
   "execution_count": 101,
   "metadata": {},
   "outputs": [],
   "source": [
    "#function to quickly check if any disaster related word is mentioned in the text\n",
    "def check_keyword(text):\n",
    "    keywords = [\"#volcano\", \"#earthquake\", \"#quake\", \"#hurricane\", \"#tornado\", \"#accident\"]\n",
    "    for word in keywords:\n",
    "        if word in text or word.lower() in text.lower():\n",
    "            return True\n",
    "    return False"
   ]
  },
  {
   "cell_type": "code",
   "execution_count": 102,
   "metadata": {},
   "outputs": [],
   "source": [
    "df_train[\"keyword_found\"] = df_train[\"text\"].apply(check_keyword)"
   ]
  },
  {
   "cell_type": "code",
   "execution_count": 103,
   "metadata": {},
   "outputs": [
    {
     "data": {
      "text/plain": [
       "(28, 6)"
      ]
     },
     "execution_count": 103,
     "metadata": {},
     "output_type": "execute_result"
    }
   ],
   "source": [
    "df_train[(df_train[\"keyword_found\"]==True) & (df_train[\"target\"]==1)].shape"
   ]
  },
  {
   "cell_type": "code",
   "execution_count": 104,
   "metadata": {},
   "outputs": [
    {
     "data": {
      "text/plain": [
       "array(['Our Deeds are the Reason of this #earthquake May ALLAH Forgive us all',\n",
       "       '#Horrible #Accident Man Died In Wings Airplane (29-07-2015) #WatchTheVideo http://t.co/p64xRVgJIk',\n",
       "       'This is unbelievably insane.\\n#man #airport #airplane #aircraft #aeroplane #runway #accident #freaky\\x89Û_ https://t.co/cezhq7CzLl',\n",
       "       'Pilot Dies In Plane Crash At Car Festival https://t.co/kQ9aE6AP2B via @YouTube #Crash #Aircraft #Airplane #Pilot #Death #Accident #CarFest',\n",
       "       \"#OMG! I don't believe this. #RIP bro\\n#AirPlane #Accident #JetEngine #TurboJet #Boing #G90 http://t.co/KXxnSZp6nk\",\n",
       "       '#Earthquake #Sismo M 1.4 - 4km E of Interlaken California: Time2015-08-06 00:52:25 UTC2015-08-05 17:52:25 -07... http://t.co/wA5C77F8vQ',\n",
       "       '1.43 earthquake occurred near Mount St. Helens area Washington at 09:36 UTC! #earthquake http://t.co/2xMdiDGpnr',\n",
       "       'Contruction upgrading ferries to earthquake standards in Vashon Mukilteo - Q13 FOX http://t.co/E981DgSkab #EarthquakeNews',\n",
       "       '2.0 #Earthquake in Sicily Italy #iPhone users download the Earthquake app for more information http://t.co/V3aZWOAmzK',\n",
       "       'USGS EQ: M 1.2 - 23km S of Twentynine Palms California: Time2015-08-05 23:54:09 UTC2015-08-05 16:... http://t.co/T97JmbzOBO #EarthQuake',\n",
       "       'USGS EQ: M 0.6 - 8km SSW of Anza California: Time2015-08-06 01:26:24 UTC2015-08-05 18:26:24 -07:0... http://t.co/3bwWNLsxhB #EarthQuake',\n",
       "       '1.9 earthquake occurred 15km E of Anchorage Alaska at 00:11 UTC! #earthquake #Anchorage http://t.co/QFyy5aZIFx',\n",
       "       'USGS reports a M1.94 #earthquake 5km S of Volcano Hawaii on 8/6/15 @ 1:04:01 UTC http://t.co/Njd28pg9Xv #quake',\n",
       "       'USGS EQ: M 1.9 - 15km E of Anchorage Alaska: Time2015-08-06 00:11:16 UTC2015-08-05 16:11:16 -08:0... http://t.co/OjQ0KFg5ub #EarthQuake',\n",
       "       '#Earthquake #Sismo M 1.9 - 15km E of Anchorage Alaska: Time2015-08-06 00:11:16 UTC2015-08-05 16:11:16 -08:00 ... http://t.co/Z0VeR1hVM9',\n",
       "       '#earthquake (EMSC): MD 2.9 OFF COAST OF NORTHERN CALIFORNIA http://t.co/6AiMd1uway G http://t.co/9cgbJwmhII',\n",
       "       '@lavapixcom Did you see #hurricane #guillermo with #MeteoEarth? http://t.co/mfckpVzfV8',\n",
       "       '@VinusTrip Did you see #hurricane #guillermo with #MeteoEarth? http://t.co/mfckpVzfV8',\n",
       "       '#kick #hurricane Seriously #simple websites: http://t.co/x8W7tF6FHg Looking For A Seriously Simple Program To http://t.co/9NZ9zFM93i',\n",
       "       'The 08/06/2015 AlabamaQuake seismic summary w/ #earthquake #news &amp; history http://t.co/zM6VcZqvWk http://t.co/DKNlZNom6n',\n",
       "       '[Report 5] 18:22:45 Ibaraki Prefecture offing M5.5 Depth 60km Maximum seismic intensity 4 #Earthquake',\n",
       "       'Japan Aogashima Volcano. By Unknown - Check It Out! http://t.co/OegFQBIqIq\\n #Aogashima #Japan #photography #Volcano',\n",
       "       '#Earthquake #Sismo M 1.9 - 5km S of Volcano Hawaii: Time2015-08-06 01:04:01 UTC2015-08-05 15:04:01 -10:00 at ... http://t.co/eTswuoD3oM',\n",
       "       '1.94 earthquake occurred 5km S of Volcano Hawaii at 01:04 UTC! #earthquake #Volcano http://t.co/auf4J4Owj1',\n",
       "       '1.9 #Earthquake in 5Km S Of Volcano Hawaii #iPhone users download the Earthquake app for more information http://t.co/V3aZWOAmzK',\n",
       "       'USGS reports a M1.94 #earthquake 5km S of Volcano Hawaii on 8/6/15 @ 1:04:01 UTC http://t.co/Njd28pg9Xv #quake',\n",
       "       'USGS EQ: M 1.9 - 5km S of Volcano Hawaii: Time2015-08-06 01:04:01 UTC2015-08-05 15:04:01 -10:00 a... http://t.co/3rrGHT4ewp #EarthQuake',\n",
       "       '1.3 #Earthquake in 9Km Ssw Of Anza California #iPhone users download the Earthquake app for more information http://t.co/V3aZWOAmzK'],\n",
       "      dtype=object)"
      ]
     },
     "execution_count": 104,
     "metadata": {},
     "output_type": "execute_result"
    }
   ],
   "source": [
    "df_train[(df_train[\"keyword_found\"]==True) & (df_train[\"target\"]==1)][\"text\"].values"
   ]
  },
  {
   "cell_type": "code",
   "execution_count": 105,
   "metadata": {},
   "outputs": [
    {
     "data": {
      "text/plain": [
       "(2, 6)"
      ]
     },
     "execution_count": 105,
     "metadata": {},
     "output_type": "execute_result"
    }
   ],
   "source": [
    "#only 41 have earthquake keyword when the target is 1\n",
    "df_train[(df_train[\"keyword_found\"]==True) & (df_train[\"target\"]==0)].shape"
   ]
  },
  {
   "cell_type": "code",
   "execution_count": 84,
   "metadata": {},
   "outputs": [
    {
     "data": {
      "text/plain": [
       "array([\"Posted a new song: 'Earthquake' http://t.co/RfTyyZ4GwJ http://t.co/lau0Ay7ahV\",\n",
       "       \"@AGeekyFangirl14 's things she looks in a significant other:\\n1. Beautiful eyes.\\n2. Humor.\\n3. Farts that creates an earthquake.\\n\\n????????\",\n",
       "       'Earthquake drill ??????',\n",
       "       '@freefromwolves GodsLove &amp; #thankU brother Danny for RT of NEW VIDEO http://t.co/cybKsXHF7d The Coming Apocalyptic US Earthquake &amp; Tsunami',\n",
       "       '@GreenLacey GodsLove &amp; #thankU my sister for RT of NEW VIDEO http://t.co/cybKsXHF7d The Coming Apocalyptic US Earthquake &amp; Tsunami',\n",
       "       'Maailiss: Diaporama : sixpenceee: Karymsky Lake is a crater lake located in the Karymsky volcanoåÊinåÊRussia. With a\\x89Û_ http://t.co/4o460Fm8HN',\n",
       "       'http://t.co/Ns1AgGFNxz #shoes Asics GT-II Super Red 2.0 11 Ronnie Fieg Kith Red White 3M x gel grey volcano 2 http://t.co/oD250zshFy',\n",
       "       'Diaporama : sixpenceee: Karymsky Lake is a crater lake located in the Karymsky volcanoåÊinåÊRussia. With a... http://t.co/7uf7TSt9Zx',\n",
       "       'http://t.co/3nUiH6pkUi #shoes Asics GT-II Super Red 2.0 11 Ronnie Fieg Kith Red White 3M x gel grey volcano 2 http://t.co/2ufCC6gH3m',\n",
       "       \"@songhey89 well I'm also gay but girls like some too. So.  I predict tsunami &amp; volcano &amp; earthquakes. A gift from God? Am Christian but\",\n",
       "       'Brian Shaw + J.J. Hickson + Kenneth Faried trying to defend LaMarcus Aldridge was A BLOOD VOLCANO http://t.co/20TWGPmM7d',\n",
       "       'The Architect Behind Kanye West\\x89Ûªs Volcano https://t.co/MUSBIk7EJf',\n",
       "       '@lexi_purduee the volcano by it ??????',\n",
       "       'This LA Startup Is So Hot that Their Flowers Come Straight from a Volcano http://t.co/R3PDdjPiEe via @LATechWatch'],\n",
       "      dtype=object)"
      ]
     },
     "execution_count": 84,
     "metadata": {},
     "output_type": "execute_result"
    }
   ],
   "source": [
    "#looks like 6 entries have earthquake keyword but target is labeled differently, lets check them\n",
    "df_train[(df_train[\"keyword_found\"]==True) & (df_train[\"target\"]==0)][\"text\"].values"
   ]
  },
  {
   "cell_type": "code",
   "execution_count": 50,
   "metadata": {},
   "outputs": [],
   "source": [
    "#looks like these are mentioning about earthquake but not relevant to actual earthquake event, some are saying video,\n",
    "#some saying song, lets come back later"
   ]
  },
  {
   "cell_type": "code",
   "execution_count": 62,
   "metadata": {},
   "outputs": [],
   "source": [
    "#lets check the keywords\n",
    "keywords_pos = list(set(df_train_pos[~df_train_pos[\"keyword\"].isnull()][\"keyword\"].values))"
   ]
  },
  {
   "cell_type": "code",
   "execution_count": 63,
   "metadata": {},
   "outputs": [
    {
     "data": {
      "text/plain": [
       "['ablaze',\n",
       " 'accident',\n",
       " 'airplane%20accident',\n",
       " 'ambulance',\n",
       " 'annihilated',\n",
       " 'annihilation',\n",
       " 'apocalypse',\n",
       " 'armageddon',\n",
       " 'army',\n",
       " 'arson',\n",
       " 'arsonist',\n",
       " 'attack',\n",
       " 'attacked',\n",
       " 'avalanche',\n",
       " 'battle',\n",
       " 'bioterror',\n",
       " 'bioterrorism',\n",
       " 'blaze',\n",
       " 'blazing',\n",
       " 'bleeding',\n",
       " 'blew%20up',\n",
       " 'blight',\n",
       " 'blizzard',\n",
       " 'blood',\n",
       " 'bloody',\n",
       " 'blown%20up',\n",
       " 'body%20bag',\n",
       " 'body%20bagging',\n",
       " 'body%20bags',\n",
       " 'bomb',\n",
       " 'bombed',\n",
       " 'bombing',\n",
       " 'bridge%20collapse',\n",
       " 'buildings%20burning',\n",
       " 'buildings%20on%20fire',\n",
       " 'burned',\n",
       " 'burning',\n",
       " 'burning%20buildings',\n",
       " 'bush%20fires',\n",
       " 'casualties',\n",
       " 'casualty',\n",
       " 'catastrophe',\n",
       " 'catastrophic',\n",
       " 'chemical%20emergency',\n",
       " 'cliff%20fall',\n",
       " 'collapse',\n",
       " 'collapsed',\n",
       " 'collide',\n",
       " 'collided',\n",
       " 'collision',\n",
       " 'crash',\n",
       " 'crashed',\n",
       " 'crush',\n",
       " 'crushed',\n",
       " 'curfew',\n",
       " 'cyclone',\n",
       " 'damage',\n",
       " 'danger',\n",
       " 'dead',\n",
       " 'death',\n",
       " 'deaths',\n",
       " 'debris',\n",
       " 'deluge',\n",
       " 'deluged',\n",
       " 'demolish',\n",
       " 'demolished',\n",
       " 'demolition',\n",
       " 'derail',\n",
       " 'derailed',\n",
       " 'derailment',\n",
       " 'desolate',\n",
       " 'desolation',\n",
       " 'destroy',\n",
       " 'destroyed',\n",
       " 'destruction',\n",
       " 'detonate',\n",
       " 'detonation',\n",
       " 'devastated',\n",
       " 'devastation',\n",
       " 'disaster',\n",
       " 'displaced',\n",
       " 'drought',\n",
       " 'drown',\n",
       " 'drowned',\n",
       " 'drowning',\n",
       " 'dust%20storm',\n",
       " 'earthquake',\n",
       " 'electrocute',\n",
       " 'electrocuted',\n",
       " 'emergency',\n",
       " 'emergency%20plan',\n",
       " 'emergency%20services',\n",
       " 'engulfed',\n",
       " 'epicentre',\n",
       " 'evacuate',\n",
       " 'evacuated',\n",
       " 'evacuation',\n",
       " 'explode',\n",
       " 'exploded',\n",
       " 'explosion',\n",
       " 'eyewitness',\n",
       " 'famine',\n",
       " 'fatal',\n",
       " 'fatalities',\n",
       " 'fatality',\n",
       " 'fear',\n",
       " 'fire',\n",
       " 'fire%20truck',\n",
       " 'first%20responders',\n",
       " 'flames',\n",
       " 'flattened',\n",
       " 'flood',\n",
       " 'flooding',\n",
       " 'floods',\n",
       " 'forest%20fire',\n",
       " 'forest%20fires',\n",
       " 'hail',\n",
       " 'hailstorm',\n",
       " 'harm',\n",
       " 'hazard',\n",
       " 'hazardous',\n",
       " 'heat%20wave',\n",
       " 'hellfire',\n",
       " 'hijack',\n",
       " 'hijacker',\n",
       " 'hijacking',\n",
       " 'hostage',\n",
       " 'hostages',\n",
       " 'hurricane',\n",
       " 'injured',\n",
       " 'injuries',\n",
       " 'injury',\n",
       " 'inundated',\n",
       " 'inundation',\n",
       " 'landslide',\n",
       " 'lava',\n",
       " 'lightning',\n",
       " 'loud%20bang',\n",
       " 'mass%20murder',\n",
       " 'mass%20murderer',\n",
       " 'massacre',\n",
       " 'mayhem',\n",
       " 'meltdown',\n",
       " 'military',\n",
       " 'mudslide',\n",
       " 'natural%20disaster',\n",
       " 'nuclear%20disaster',\n",
       " 'nuclear%20reactor',\n",
       " 'obliterate',\n",
       " 'obliterated',\n",
       " 'obliteration',\n",
       " 'oil%20spill',\n",
       " 'outbreak',\n",
       " 'pandemonium',\n",
       " 'panic',\n",
       " 'panicking',\n",
       " 'police',\n",
       " 'quarantine',\n",
       " 'quarantined',\n",
       " 'radiation%20emergency',\n",
       " 'rainstorm',\n",
       " 'razed',\n",
       " 'refugees',\n",
       " 'rescue',\n",
       " 'rescued',\n",
       " 'rescuers',\n",
       " 'riot',\n",
       " 'rioting',\n",
       " 'rubble',\n",
       " 'ruin',\n",
       " 'sandstorm',\n",
       " 'screamed',\n",
       " 'screaming',\n",
       " 'screams',\n",
       " 'seismic',\n",
       " 'sinkhole',\n",
       " 'sinking',\n",
       " 'siren',\n",
       " 'sirens',\n",
       " 'smoke',\n",
       " 'snowstorm',\n",
       " 'storm',\n",
       " 'stretcher',\n",
       " 'structural%20failure',\n",
       " 'suicide%20bomb',\n",
       " 'suicide%20bomber',\n",
       " 'suicide%20bombing',\n",
       " 'sunk',\n",
       " 'survive',\n",
       " 'survived',\n",
       " 'survivors',\n",
       " 'terrorism',\n",
       " 'terrorist',\n",
       " 'threat',\n",
       " 'thunder',\n",
       " 'thunderstorm',\n",
       " 'tornado',\n",
       " 'tragedy',\n",
       " 'trapped',\n",
       " 'trauma',\n",
       " 'traumatised',\n",
       " 'trouble',\n",
       " 'tsunami',\n",
       " 'twister',\n",
       " 'typhoon',\n",
       " 'upheaval',\n",
       " 'violent%20storm',\n",
       " 'volcano',\n",
       " 'war%20zone',\n",
       " 'weapon',\n",
       " 'weapons',\n",
       " 'whirlwind',\n",
       " 'wild%20fires',\n",
       " 'wildfire',\n",
       " 'windstorm',\n",
       " 'wounded',\n",
       " 'wounds',\n",
       " 'wreck',\n",
       " 'wreckage',\n",
       " 'wrecked']"
      ]
     },
     "execution_count": 63,
     "metadata": {},
     "output_type": "execute_result"
    }
   ],
   "source": [
    "keywords_pos.sort()\n",
    "keywords_pos"
   ]
  },
  {
   "cell_type": "code",
   "execution_count": 59,
   "metadata": {},
   "outputs": [
    {
     "data": {
      "text/plain": [
       "['ablaze',\n",
       " 'accident',\n",
       " 'aftershock',\n",
       " 'airplane%20accident',\n",
       " 'ambulance',\n",
       " 'annihilated',\n",
       " 'annihilation',\n",
       " 'apocalypse',\n",
       " 'armageddon',\n",
       " 'army',\n",
       " 'arson',\n",
       " 'arsonist',\n",
       " 'attack',\n",
       " 'attacked',\n",
       " 'avalanche',\n",
       " 'battle',\n",
       " 'bioterror',\n",
       " 'bioterrorism',\n",
       " 'blaze',\n",
       " 'blazing',\n",
       " 'bleeding',\n",
       " 'blew%20up',\n",
       " 'blight',\n",
       " 'blizzard',\n",
       " 'blood',\n",
       " 'bloody',\n",
       " 'blown%20up',\n",
       " 'body%20bag',\n",
       " 'body%20bagging',\n",
       " 'body%20bags',\n",
       " 'bomb',\n",
       " 'bombed',\n",
       " 'bombing',\n",
       " 'bridge%20collapse',\n",
       " 'buildings%20burning',\n",
       " 'buildings%20on%20fire',\n",
       " 'burned',\n",
       " 'burning',\n",
       " 'burning%20buildings',\n",
       " 'bush%20fires',\n",
       " 'casualties',\n",
       " 'casualty',\n",
       " 'catastrophe',\n",
       " 'catastrophic',\n",
       " 'chemical%20emergency',\n",
       " 'cliff%20fall',\n",
       " 'collapse',\n",
       " 'collapsed',\n",
       " 'collide',\n",
       " 'collided',\n",
       " 'collision',\n",
       " 'crash',\n",
       " 'crashed',\n",
       " 'crush',\n",
       " 'crushed',\n",
       " 'curfew',\n",
       " 'cyclone',\n",
       " 'damage',\n",
       " 'danger',\n",
       " 'dead',\n",
       " 'death',\n",
       " 'deaths',\n",
       " 'deluge',\n",
       " 'deluged',\n",
       " 'demolish',\n",
       " 'demolished',\n",
       " 'demolition',\n",
       " 'derail',\n",
       " 'derailed',\n",
       " 'desolate',\n",
       " 'desolation',\n",
       " 'destroy',\n",
       " 'destroyed',\n",
       " 'destruction',\n",
       " 'detonate',\n",
       " 'detonation',\n",
       " 'devastated',\n",
       " 'devastation',\n",
       " 'disaster',\n",
       " 'displaced',\n",
       " 'drought',\n",
       " 'drown',\n",
       " 'drowned',\n",
       " 'drowning',\n",
       " 'dust%20storm',\n",
       " 'earthquake',\n",
       " 'electrocute',\n",
       " 'electrocuted',\n",
       " 'emergency',\n",
       " 'emergency%20plan',\n",
       " 'emergency%20services',\n",
       " 'engulfed',\n",
       " 'epicentre',\n",
       " 'evacuate',\n",
       " 'evacuated',\n",
       " 'evacuation',\n",
       " 'explode',\n",
       " 'exploded',\n",
       " 'explosion',\n",
       " 'eyewitness',\n",
       " 'famine',\n",
       " 'fatal',\n",
       " 'fatalities',\n",
       " 'fatality',\n",
       " 'fear',\n",
       " 'fire',\n",
       " 'fire%20truck',\n",
       " 'first%20responders',\n",
       " 'flames',\n",
       " 'flattened',\n",
       " 'flood',\n",
       " 'flooding',\n",
       " 'floods',\n",
       " 'forest%20fire',\n",
       " 'forest%20fires',\n",
       " 'hail',\n",
       " 'hailstorm',\n",
       " 'harm',\n",
       " 'hazard',\n",
       " 'hazardous',\n",
       " 'heat%20wave',\n",
       " 'hellfire',\n",
       " 'hijack',\n",
       " 'hijacker',\n",
       " 'hijacking',\n",
       " 'hostage',\n",
       " 'hostages',\n",
       " 'hurricane',\n",
       " 'injured',\n",
       " 'injuries',\n",
       " 'injury',\n",
       " 'inundated',\n",
       " 'inundation',\n",
       " 'landslide',\n",
       " 'lava',\n",
       " 'lightning',\n",
       " 'loud%20bang',\n",
       " 'mass%20murder',\n",
       " 'mass%20murderer',\n",
       " 'massacre',\n",
       " 'mayhem',\n",
       " 'meltdown',\n",
       " 'military',\n",
       " 'mudslide',\n",
       " 'natural%20disaster',\n",
       " 'nuclear%20disaster',\n",
       " 'nuclear%20reactor',\n",
       " 'obliterate',\n",
       " 'obliterated',\n",
       " 'obliteration',\n",
       " 'oil%20spill',\n",
       " 'outbreak',\n",
       " 'pandemonium',\n",
       " 'panic',\n",
       " 'panicking',\n",
       " 'police',\n",
       " 'quarantine',\n",
       " 'quarantined',\n",
       " 'radiation%20emergency',\n",
       " 'rainstorm',\n",
       " 'razed',\n",
       " 'refugees',\n",
       " 'rescue',\n",
       " 'rescued',\n",
       " 'rescuers',\n",
       " 'riot',\n",
       " 'rioting',\n",
       " 'rubble',\n",
       " 'ruin',\n",
       " 'sandstorm',\n",
       " 'screamed',\n",
       " 'screaming',\n",
       " 'screams',\n",
       " 'seismic',\n",
       " 'sinkhole',\n",
       " 'sinking',\n",
       " 'siren',\n",
       " 'sirens',\n",
       " 'smoke',\n",
       " 'snowstorm',\n",
       " 'storm',\n",
       " 'stretcher',\n",
       " 'structural%20failure',\n",
       " 'suicide%20bomb',\n",
       " 'suicide%20bomber',\n",
       " 'suicide%20bombing',\n",
       " 'sunk',\n",
       " 'survive',\n",
       " 'survived',\n",
       " 'survivors',\n",
       " 'terrorism',\n",
       " 'terrorist',\n",
       " 'threat',\n",
       " 'thunder',\n",
       " 'thunderstorm',\n",
       " 'tornado',\n",
       " 'tragedy',\n",
       " 'trapped',\n",
       " 'trauma',\n",
       " 'traumatised',\n",
       " 'trouble',\n",
       " 'tsunami',\n",
       " 'twister',\n",
       " 'typhoon',\n",
       " 'upheaval',\n",
       " 'violent%20storm',\n",
       " 'volcano',\n",
       " 'war%20zone',\n",
       " 'weapon',\n",
       " 'weapons',\n",
       " 'whirlwind',\n",
       " 'wild%20fires',\n",
       " 'wildfire',\n",
       " 'windstorm',\n",
       " 'wounded',\n",
       " 'wounds',\n",
       " 'wreck',\n",
       " 'wrecked']"
      ]
     },
     "execution_count": 59,
     "metadata": {},
     "output_type": "execute_result"
    }
   ],
   "source": [
    "#volcano is more likely related to earthquake, so lets add this to keywords list and check back, but before that lets see\n",
    "#the keywords used for negative example\n",
    "keywords_neg = list(set(df_train_neg[~df_train_neg[\"keyword\"].isnull()][\"keyword\"].values))\n",
    "keywords_neg.sort()\n",
    "keywords_neg"
   ]
  },
  {
   "cell_type": "code",
   "execution_count": 64,
   "metadata": {},
   "outputs": [
    {
     "data": {
      "text/plain": [
       "array(['debris', 'derailment', 'wreckage'], dtype='<U21')"
      ]
     },
     "execution_count": 64,
     "metadata": {},
     "output_type": "execute_result"
    }
   ],
   "source": [
    "#lets check the difference\n",
    "np.setdiff1d(keywords_pos, keywords_neg)"
   ]
  },
  {
   "cell_type": "code",
   "execution_count": 74,
   "metadata": {},
   "outputs": [
    {
     "data": {
      "text/html": [
       "<div>\n",
       "<style scoped>\n",
       "    .dataframe tbody tr th:only-of-type {\n",
       "        vertical-align: middle;\n",
       "    }\n",
       "\n",
       "    .dataframe tbody tr th {\n",
       "        vertical-align: top;\n",
       "    }\n",
       "\n",
       "    .dataframe thead th {\n",
       "        text-align: right;\n",
       "    }\n",
       "</style>\n",
       "<table border=\"1\" class=\"dataframe\">\n",
       "  <thead>\n",
       "    <tr style=\"text-align: right;\">\n",
       "      <th></th>\n",
       "      <th>text</th>\n",
       "      <th>keyword</th>\n",
       "      <th>location</th>\n",
       "    </tr>\n",
       "  </thead>\n",
       "  <tbody>\n",
       "    <tr>\n",
       "      <td>31</td>\n",
       "      <td>@bbcmtd Wholesale Markets ablaze http://t.co/lHYXEOHY6C</td>\n",
       "      <td>ablaze</td>\n",
       "      <td>Birmingham</td>\n",
       "    </tr>\n",
       "    <tr>\n",
       "      <td>33</td>\n",
       "      <td>#AFRICANBAZE: Breaking news:Nigeria flag set ablaze in Aba. http://t.co/2nndBGwyEi</td>\n",
       "      <td>ablaze</td>\n",
       "      <td>AFRICA</td>\n",
       "    </tr>\n",
       "    <tr>\n",
       "      <td>37</td>\n",
       "      <td>INEC Office in Abia Set Ablaze - http://t.co/3ImaomknnA</td>\n",
       "      <td>ablaze</td>\n",
       "      <td>World Wide!!</td>\n",
       "    </tr>\n",
       "    <tr>\n",
       "      <td>38</td>\n",
       "      <td>Barbados #Bridgetown JAMAICA ÛÒ Two cars set ablaze: SANTA CRUZ ÛÓ Head of the St Elizabeth Police Superintende...  http://t.co/wDUEaj8Q4J</td>\n",
       "      <td>ablaze</td>\n",
       "      <td>NaN</td>\n",
       "    </tr>\n",
       "    <tr>\n",
       "      <td>46</td>\n",
       "      <td>How the West was burned: Thousands of wildfires ablaze in California alone http://t.co/vl5TBR3wbr</td>\n",
       "      <td>ablaze</td>\n",
       "      <td>GREENSBORO,NORTH CAROLINA</td>\n",
       "    </tr>\n",
       "    <tr>\n",
       "      <td>50</td>\n",
       "      <td>Deputies: Man shot before Brighton home set ablaze http://t.co/gWNRhMSO8k</td>\n",
       "      <td>ablaze</td>\n",
       "      <td>Sheffield Township, Ohio</td>\n",
       "    </tr>\n",
       "    <tr>\n",
       "      <td>51</td>\n",
       "      <td>Man wife get six years jail for setting ablaze niece\\nhttp://t.co/eV1ahOUCZA</td>\n",
       "      <td>ablaze</td>\n",
       "      <td>India</td>\n",
       "    </tr>\n",
       "    <tr>\n",
       "      <td>53</td>\n",
       "      <td>Police: Arsonist Deliberately Set Black Church In North CarolinaåÊAblaze http://t.co/pcXarbH9An</td>\n",
       "      <td>ablaze</td>\n",
       "      <td>Anaheim</td>\n",
       "    </tr>\n",
       "    <tr>\n",
       "      <td>55</td>\n",
       "      <td>#Kurds trampling on Turkmen flag later set it ablaze while others vandalized offices of Turkmen Front in #Diyala http://t.co/4IzFdYC3cg</td>\n",
       "      <td>ablaze</td>\n",
       "      <td>USA</td>\n",
       "    </tr>\n",
       "    <tr>\n",
       "      <td>56</td>\n",
       "      <td>TRUCK ABLAZE : R21. VOORTREKKER AVE. OUTSIDE OR TAMBO INTL. CARGO SECTION. http://t.co/8kscqKfKkF</td>\n",
       "      <td>ablaze</td>\n",
       "      <td>South Africa</td>\n",
       "    </tr>\n",
       "    <tr>\n",
       "      <td>59</td>\n",
       "      <td>How the West was burned: Thousands of wildfires ablaze in #California alone http://t.co/iCSjGZ9tE1 #climate #energy http://t.co/9FxmN0l0Bd</td>\n",
       "      <td>ablaze</td>\n",
       "      <td>Edmonton, Alberta - Treaty 6</td>\n",
       "    </tr>\n",
       "    <tr>\n",
       "      <td>63</td>\n",
       "      <td>@Navista7 Steve these fires out here are something else! California is a tinderbox - and this clown was setting my 'hood ablaze @News24680</td>\n",
       "      <td>ablaze</td>\n",
       "      <td>Concord, CA</td>\n",
       "    </tr>\n",
       "    <tr>\n",
       "      <td>65</td>\n",
       "      <td>@nxwestmidlands huge fire at Wholesale markets ablaze http://t.co/rwzbFVNXER</td>\n",
       "      <td>ablaze</td>\n",
       "      <td>Birmingham</td>\n",
       "    </tr>\n",
       "    <tr>\n",
       "      <td>68</td>\n",
       "      <td>Accident on I-24 W #NashvilleTraffic. Traffic moving 8m slower than usual. https://t.co/0GHk693EgJ</td>\n",
       "      <td>accident</td>\n",
       "      <td>Nashville, TN</td>\n",
       "    </tr>\n",
       "    <tr>\n",
       "      <td>69</td>\n",
       "      <td>Accident center lane blocked in #SantaClara on US-101 NB before Great America Pkwy #BayArea #Traffic http://t.co/pmlOhZuRWR</td>\n",
       "      <td>accident</td>\n",
       "      <td>Santa Clara, CA</td>\n",
       "    </tr>\n",
       "    <tr>\n",
       "      <td>72</td>\n",
       "      <td>Reported motor vehicle accident in Curry on Herman Rd near Stephenson involving an overturned vehicle. Please use... http://t.co/YbJezKuRW1</td>\n",
       "      <td>accident</td>\n",
       "      <td>Walker County, Alabama</td>\n",
       "    </tr>\n",
       "    <tr>\n",
       "      <td>73</td>\n",
       "      <td>BigRigRadio Live Accident Awareness</td>\n",
       "      <td>accident</td>\n",
       "      <td>Australia</td>\n",
       "    </tr>\n",
       "    <tr>\n",
       "      <td>74</td>\n",
       "      <td>I-77 Mile Marker 31 South Mooresville  Iredell Vehicle Accident Ramp Closed at 8/6 1:18 PM</td>\n",
       "      <td>accident</td>\n",
       "      <td>North Carolina</td>\n",
       "    </tr>\n",
       "    <tr>\n",
       "      <td>77</td>\n",
       "      <td>Traffic accident N CABRILLO HWY/MAGELLAN AV MIR (08/06/15 11:03:58)</td>\n",
       "      <td>accident</td>\n",
       "      <td>San Mateo County, CA</td>\n",
       "    </tr>\n",
       "    <tr>\n",
       "      <td>78</td>\n",
       "      <td>I-77 Mile Marker 31 to 40 South Mooresville  Iredell Vehicle Accident Congestion at 8/6 1:18 PM</td>\n",
       "      <td>accident</td>\n",
       "      <td>North Carolina</td>\n",
       "    </tr>\n",
       "  </tbody>\n",
       "</table>\n",
       "</div>"
      ],
      "text/plain": [
       "                                                                                                                                            text  \\\n",
       "31  @bbcmtd Wholesale Markets ablaze http://t.co/lHYXEOHY6C                                                                                        \n",
       "33  #AFRICANBAZE: Breaking news:Nigeria flag set ablaze in Aba. http://t.co/2nndBGwyEi                                                             \n",
       "37  INEC Office in Abia Set Ablaze - http://t.co/3ImaomknnA                                                                                        \n",
       "38  Barbados #Bridgetown JAMAICA ÛÒ Two cars set ablaze: SANTA CRUZ ÛÓ Head of the St Elizabeth Police Superintende...  http://t.co/wDUEaj8Q4J   \n",
       "46  How the West was burned: Thousands of wildfires ablaze in California alone http://t.co/vl5TBR3wbr                                              \n",
       "50  Deputies: Man shot before Brighton home set ablaze http://t.co/gWNRhMSO8k                                                                      \n",
       "51  Man wife get six years jail for setting ablaze niece\\nhttp://t.co/eV1ahOUCZA                                                                   \n",
       "53  Police: Arsonist Deliberately Set Black Church In North CarolinaåÊAblaze http://t.co/pcXarbH9An                                                \n",
       "55  #Kurds trampling on Turkmen flag later set it ablaze while others vandalized offices of Turkmen Front in #Diyala http://t.co/4IzFdYC3cg        \n",
       "56  TRUCK ABLAZE : R21. VOORTREKKER AVE. OUTSIDE OR TAMBO INTL. CARGO SECTION. http://t.co/8kscqKfKkF                                              \n",
       "59  How the West was burned: Thousands of wildfires ablaze in #California alone http://t.co/iCSjGZ9tE1 #climate #energy http://t.co/9FxmN0l0Bd     \n",
       "63  @Navista7 Steve these fires out here are something else! California is a tinderbox - and this clown was setting my 'hood ablaze @News24680     \n",
       "65  @nxwestmidlands huge fire at Wholesale markets ablaze http://t.co/rwzbFVNXER                                                                   \n",
       "68  Accident on I-24 W #NashvilleTraffic. Traffic moving 8m slower than usual. https://t.co/0GHk693EgJ                                             \n",
       "69  Accident center lane blocked in #SantaClara on US-101 NB before Great America Pkwy #BayArea #Traffic http://t.co/pmlOhZuRWR                    \n",
       "72  Reported motor vehicle accident in Curry on Herman Rd near Stephenson involving an overturned vehicle. Please use... http://t.co/YbJezKuRW1    \n",
       "73  BigRigRadio Live Accident Awareness                                                                                                            \n",
       "74  I-77 Mile Marker 31 South Mooresville  Iredell Vehicle Accident Ramp Closed at 8/6 1:18 PM                                                     \n",
       "77  Traffic accident N CABRILLO HWY/MAGELLAN AV MIR (08/06/15 11:03:58)                                                                            \n",
       "78  I-77 Mile Marker 31 to 40 South Mooresville  Iredell Vehicle Accident Congestion at 8/6 1:18 PM                                                \n",
       "\n",
       "     keyword                      location  \n",
       "31  ablaze    Birmingham                    \n",
       "33  ablaze    AFRICA                        \n",
       "37  ablaze    World Wide!!                  \n",
       "38  ablaze    NaN                           \n",
       "46  ablaze    GREENSBORO,NORTH CAROLINA     \n",
       "50  ablaze    Sheffield Township, Ohio      \n",
       "51  ablaze    India                         \n",
       "53  ablaze    Anaheim                       \n",
       "55  ablaze    USA                           \n",
       "56  ablaze    South Africa                  \n",
       "59  ablaze    Edmonton, Alberta - Treaty 6  \n",
       "63  ablaze    Concord, CA                   \n",
       "65  ablaze    Birmingham                    \n",
       "68  accident  Nashville, TN                 \n",
       "69  accident  Santa Clara, CA               \n",
       "72  accident  Walker County, Alabama        \n",
       "73  accident  Australia                     \n",
       "74  accident  North Carolina                \n",
       "77  accident  San Mateo County, CA          \n",
       "78  accident  North Carolina                "
      ]
     },
     "execution_count": 74,
     "metadata": {},
     "output_type": "execute_result"
    }
   ],
   "source": [
    "#the keywords are extracted form the tweet itself, so lets observe the pattern of keyword and tweet itself\n",
    "df_train_pos[~df_train_pos[\"keyword\"].isnull()][[\"text\", \"keyword\", \"location\"]].head(20)"
   ]
  },
  {
   "cell_type": "code",
   "execution_count": null,
   "metadata": {},
   "outputs": [],
   "source": []
  },
  {
   "cell_type": "code",
   "execution_count": null,
   "metadata": {},
   "outputs": [],
   "source": []
  },
  {
   "cell_type": "code",
   "execution_count": null,
   "metadata": {},
   "outputs": [],
   "source": []
  },
  {
   "cell_type": "code",
   "execution_count": null,
   "metadata": {},
   "outputs": [],
   "source": []
  },
  {
   "cell_type": "code",
   "execution_count": null,
   "metadata": {},
   "outputs": [],
   "source": []
  }
 ],
 "metadata": {
  "kernelspec": {
   "display_name": "Python 3",
   "language": "python",
   "name": "python3"
  },
  "language_info": {
   "codemirror_mode": {
    "name": "ipython",
    "version": 3
   },
   "file_extension": ".py",
   "mimetype": "text/x-python",
   "name": "python",
   "nbconvert_exporter": "python",
   "pygments_lexer": "ipython3",
   "version": "3.7.4"
  }
 },
 "nbformat": 4,
 "nbformat_minor": 2
}
